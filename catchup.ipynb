{
 "cells": [
  {
   "cell_type": "code",
   "execution_count": 8,
   "metadata": {
    "collapsed": false
   },
   "outputs": [],
   "source": [
    "%load_ext Cython"
   ]
  },
  {
   "cell_type": "code",
   "execution_count": 10,
   "metadata": {
    "collapsed": false
   },
   "outputs": [],
   "source": [
    "import copy\n",
    "import igraph\n",
    "import json\n",
    "import cairo\n",
    "import pandas as pd\n",
    "import sys\n",
    "import numpy as np\n",
    "import string\n",
    "import random\n",
    "import matplotlib.pyplot as plt \n",
    "import collections\n",
    "#from scipy.special import factorial\n",
    "%matplotlib inline"
   ]
  },
  {
   "cell_type": "code",
   "execution_count": 11,
   "metadata": {
    "collapsed": false
   },
   "outputs": [],
   "source": [
    "\n",
    "def make_board(n=7):\n",
    "    board = set(range(1,n+1))\n",
    "    return board\n",
    "\n",
    "class GameNode:\n",
    "    # def __init__(self, movein_player=2, board=make_board(), collected_points=[[],[],[]], sums=[0,0,0], moves=[], level=0):\n",
    "    def __init__(self, movein_player=2, board=make_board(), sums=None, level=0):\n",
    "        if not sums:\n",
    "            sums = [sum(board), 0, 0]\n",
    "            \n",
    "        self.movein_player = movein_player\n",
    "        self.moveout_player = 3-movein_player\n",
    "        self.board = copy.copy(board)\n",
    "        #self.collected_points = copy.deepcopy(collected_points)\n",
    "        self.sums = [sums[0], sums[1], sums[2]]\n",
    "        self.movein = []  # this is the move that got us to this node\n",
    "        self.moves = []  # these are the possible moves after this node\n",
    "        self.children = []\n",
    "        self.level = level\n",
    "        self.result = None\n",
    "        self.sgvalue = None\n",
    "        self.vertexid = None\n",
    "        self.graphed = False\n",
    "        \n",
    "    def spawn(self):\n",
    "        # node= GameNode(self.movein_player, self.board, self.collected_points, self.sums)\n",
    "        node= GameNode(self.movein_player, self.board, self.sums)\n",
    "        node.result = self.result\n",
    "        node.sgvalue = self.sgvalue\n",
    "        return node\n",
    "        \n",
    "    def show2(self, recursive=False):\n",
    "        tab = \"  \"*self.level\n",
    "        print(tab+\"P\"+str(self.moveout_player)+\":\"+str(self.board)+\":\"+str(self.sums)+\" \"+str(self.win()))\n",
    "        if recursive:\n",
    "            for child in self.children:\n",
    "                child.show(recursive)\n",
    "                \n",
    "    def show(self, recursive=False):\n",
    "        tab = \"  \"*self.level\n",
    "        print(tab+\"P\"+str(self.movein_player)+\"\"+str(self.movein)+\":\"+str(self.board)+\":\"+str(self.sums)+\" \"+str(self.result))\n",
    "        if recursive:\n",
    "            for child in self.children:\n",
    "                child.show(recursive)\n",
    "        \n",
    "    def setmoves(self, trimming=True):\n",
    "        self.moves = self.possible_moves(trimming)\n",
    "        \n",
    "    def push_move(self, move):\n",
    "        # this is used for modifying a GameNode to a new state if you don't care about building a complete tree\n",
    "        \n",
    "        # swap in/out players\n",
    "        self.movein_player, self.moveout_player = self.moveout_player, self.movein_player\n",
    "        self.level += 1\n",
    "        for m in move:\n",
    "            self.board.discard(m)\n",
    "            self.sums[self.movein_player] += m\n",
    "            self.sums[0] -= m\n",
    "\n",
    "    def pop_move(self, move):\n",
    "        # this is used for modifying a GameNode to a new state if you don't care about building a complete tree\n",
    "        \n",
    "        # swap in/out players\n",
    "        self.movein_player, self.moveout_player = self.moveout_player, self.movein_player\n",
    "        self.level -= 1\n",
    "        for m in move:\n",
    "            self.board.add(m)\n",
    "            self.sums[self.moveout_player] -= m\n",
    "            self.sums[0] += m\n",
    "        \n",
    "    def make_key(self):\n",
    "        return str(self.movein_player)+\":\"+str(self.sums[1])+'/'+str(self.sums[2])+\":\"+str(self.board)\n",
    "    \n",
    "    def make_move(self, move):\n",
    "        node = self.spawn()\n",
    "        node.movein_player = self.moveout_player\n",
    "        node.moveout_player = self.movein_player\n",
    "        \n",
    "        #node.collected_points[node.movein_player].append(move)\n",
    "        \n",
    "        for pick in move:\n",
    "            node.sums[node.movein_player] += pick\n",
    "            node.sums[0] -= pick\n",
    "            node.board.discard(pick)\n",
    "\n",
    "        node.movein = move\n",
    "        node.level = self.level + 1\n",
    "    \n",
    "        self.children.append(node)\n",
    "        \n",
    "        return node\n",
    "\n",
    "    def generate_move(self, maxplay, sum_move=0, move=[], picks=None, trimming=True):\n",
    "        if picks == None:\n",
    "            picks = self.board\n",
    "\n",
    "        if move:\n",
    "            maxpick = max(move)\n",
    "        else:\n",
    "            maxpick = 0\n",
    "            \n",
    "        len_move_plus_1 = len(move)+1\n",
    "        len_picks = len(picks)\n",
    "\n",
    "        for pick in picks:\n",
    "            if pick < maxpick:\n",
    "                # only emit the moves in increasing order \n",
    "                # (i.e don't emit both 2,3 and 3,2 if you are behind by 4, just emit 2,3)\n",
    "                if trimming:\n",
    "                    continue\n",
    "\n",
    "            if pick in move:\n",
    "                # can't pick something you've already picked\n",
    "                continue\n",
    "\n",
    "            move.append(pick)\n",
    "            if len_move_plus_1 == len_picks:\n",
    "                yield list(move)\n",
    "            elif sum_move+pick >= maxplay:\n",
    "                yield list(move)\n",
    "            else:\n",
    "                for m in self.generate_move(maxplay, sum_move+pick, move, picks, trimming):\n",
    "                    yield m\n",
    "            move.pop()\n",
    "\n",
    "    def scoreP1(self):\n",
    "        sA = self.sums[1]\n",
    "        sB = self.sums[2]\n",
    "        return sA-sB\n",
    "    \n",
    "    def win(self):\n",
    "        s = self.score()\n",
    "        if s < 0:\n",
    "            return -1\n",
    "        elif s > 0:\n",
    "            return 1\n",
    "        else:\n",
    "            return 0\n",
    "    \n",
    "    def winP1(self):\n",
    "        s = self.scoreP1()\n",
    "        if s < 0:\n",
    "            return -1\n",
    "        elif s > 0:\n",
    "            return 1\n",
    "        else:\n",
    "            return 0\n",
    "    \n",
    "    def score(self):\n",
    "        sA = self.sums[self.movein_player]\n",
    "        sB = self.sums[self.moveout_player]\n",
    "        return sA-sB\n",
    "    \n",
    "    \n",
    "    \n",
    "    def possible_moves(self, trimming):\n",
    "        # A is the current player\n",
    "        # B is the opponent player\n",
    "        sA = self.sums[self.moveout_player]\n",
    "        sB = self.sums[self.movein_player]\n",
    "\n",
    "        maxplay = sB - sA\n",
    "        #assert maxplay >= 0\n",
    "\n",
    "        moves = list(self.generate_move(maxplay, trimming=trimming))\n",
    "        return moves\n",
    "      \n",
    "        "
   ]
  },
  {
   "cell_type": "markdown",
   "metadata": {},
   "source": [
    "## playing the game - heuristics\n",
    "we need to play the game with different heuristics to discover which is most interesting"
   ]
  },
  {
   "cell_type": "code",
   "execution_count": 2,
   "metadata": {
    "collapsed": true
   },
   "outputs": [],
   "source": [
    "class Strategy:\n",
    "    def __init__(self):\n",
    "        pass\n",
    "    \n",
    "    def PickMove(self, node):\n",
    "        return []\n",
    "    \n",
    "class RandomStrategy(Strategy):\n",
    "    def __init__(self):\n",
    "        pass\n",
    "    \n",
    "    def PickMove(self, node):\n",
    "        moves = node.possible_moves()\n",
    "        move = random.choice(moves)\n",
    "        return move\n",
    "    \n",
    "class MaximizeScoreStrategy(Strategy):\n",
    "    def __init__(self):\n",
    "        pass\n",
    "    \n",
    "    def _DoPickMove(self, moves):\n",
    "        movesum = [sum(move) for move in moves]\n",
    "        target = max(movesum)\n",
    "        indices = [i for i, x in enumerate(movesum) if x == target]\n",
    "        index = random.choice(indices)\n",
    "        return moves[index]\n",
    "    \n",
    "    def PickMove(self, node):\n",
    "        moves = node.possible_moves()\n",
    "        return self._DoPickMove(moves)\n",
    "\n",
    "\n",
    "class MinimizeScoreStrategy(Strategy):\n",
    "    def __init__(self):\n",
    "        pass\n",
    "    \n",
    "    def _DoPickMove(self, moves):\n",
    "        movesum = [sum(move) for move in moves]\n",
    "        target = min(movesum)\n",
    "        indices = [i for i, x in enumerate(movesum) if x == target]\n",
    "        index = random.choice(indices)\n",
    "        return moves[index]\n",
    "    \n",
    "    def PickMove(self, node):\n",
    "        moves = node.possible_moves()\n",
    "        return self._DoPickMove(moves)\n",
    "    \n",
    "class UseMostPiecesStrategy(Strategy):\n",
    "    def __init__(self):\n",
    "        pass\n",
    "    \n",
    "    def _DoPickMove(self, moves):\n",
    "        movesum = [len(move) for move in moves]\n",
    "        target = max(movesum)\n",
    "        indices = [i for i, x in enumerate(movesum) if x == target]\n",
    "        index = random.choice(indices)\n",
    "        return moves[index]\n",
    "    \n",
    "    def PickMove(self, node):\n",
    "        moves = node.possible_moves()\n",
    "        return self._DoPickMove(moves)\n",
    "\n",
    "class UseMostPiecesThenMaximizeStrategy(Strategy):\n",
    "    def __init__(self):\n",
    "        pass\n",
    "    \n",
    "    def _DoPickMove(self, moves):\n",
    "        movelen = [len(move) for move in moves]\n",
    "        movesum = [sum(move) for move in moves]\n",
    "        target = max(movelen)\n",
    "        indices = [i for i, x in enumerate(movesum) if x == target]\n",
    "        if len(indices) == 1:\n",
    "            return moves[indices[0]]\n",
    "        else:\n",
    "            movesummax =0\n",
    "        \n",
    "            for index in indices:\n",
    "                movesummax = max(movesummax, movesum[index])\n",
    "                \n",
    "        index = random.choice(indices)\n",
    "        return moves[index]\n",
    "    \n",
    "    def PickMove(self, node):\n",
    "        moves = node.possible_moves()\n",
    "        return self._DoPickMove(moves)\n",
    "    \n",
    "class UseLeastPiecesStrategy(Strategy):\n",
    "    def __init__(self):\n",
    "        pass\n",
    "    \n",
    "    def _DoPickMove(self, moves):\n",
    "        movesum = [len(move) for move in moves]\n",
    "        target = min(movesum)\n",
    "        indices = [i for i, x in enumerate(movesum) if x == target]\n",
    "        index = random.choice(indices)\n",
    "        return moves[index]\n",
    "    \n",
    "    def PickMove(self, node):\n",
    "        moves = node.possible_moves()\n",
    "        return self._DoPickMove(moves)\n",
    "\n",
    "\n",
    "    \n",
    "class GamePlayer:\n",
    "    def __init__(self, player1strategy, player2strategy, n=7):\n",
    "        self.n = n\n",
    "        self.strategies = [None, player1strategy, player2strategy]\n",
    "    \n",
    "    def Play(self):\n",
    "        game = GameNode(board= make_board(self.n))\n",
    "        while game.board:\n",
    "            player = game.moveout_player\n",
    "            move = self.strategies[player].PickMove(game)\n",
    "            game.push_move(move)\n",
    "        return game.winP1()\n",
    "    \n",
    "    def Experiment(self, n=10000):\n",
    "        data = pd.Series([self.Play() for i in xrange(n)])\n",
    "        return data.value_counts()\n",
    "    "
   ]
  },
  {
   "cell_type": "markdown",
   "metadata": {},
   "source": [
    "## Playing Against a Random Strategy\n",
    "What is the best thing to do against a random strategy?\n",
    "\n",
    "First, lets see what is the best heursitic when playing against a Random P2"
   ]
  },
  {
   "cell_type": "code",
   "execution_count": null,
   "metadata": {
    "collapsed": false
   },
   "outputs": [],
   "source": [
    "GamePlayer(MinimizeScoreStrategy(), RandomStrategy(), 9).Experiment()"
   ]
  },
  {
   "cell_type": "code",
   "execution_count": null,
   "metadata": {
    "collapsed": false
   },
   "outputs": [],
   "source": [
    "GamePlayer(RandomStrategy(), RandomStrategy(), 9).Experiment()"
   ]
  },
  {
   "cell_type": "code",
   "execution_count": null,
   "metadata": {
    "collapsed": false
   },
   "outputs": [],
   "source": [
    "GamePlayer(MaximizeScoreStrategy(), RandomStrategy(), 9).Experiment()"
   ]
  },
  {
   "cell_type": "markdown",
   "metadata": {},
   "source": [
    "So, P1 prefers Maximize if playing against Random.  We can now assume that P2 switches to a new strategy since P1 is going to play Maximize. \n"
   ]
  },
  {
   "cell_type": "code",
   "execution_count": null,
   "metadata": {
    "collapsed": false
   },
   "outputs": [],
   "source": [
    "GamePlayer(MaximizeScoreStrategy(), MinimizeScoreStrategy(), 9).Experiment()"
   ]
  },
  {
   "cell_type": "code",
   "execution_count": null,
   "metadata": {
    "collapsed": false
   },
   "outputs": [],
   "source": [
    "GamePlayer(MaximizeScoreStrategy(), RandomStrategy(), 9).Experiment()"
   ]
  },
  {
   "cell_type": "code",
   "execution_count": null,
   "metadata": {
    "collapsed": false
   },
   "outputs": [],
   "source": [
    "GamePlayer(MaximizeScoreStrategy(), MaximizeScoreStrategy(), 9).Experiment()"
   ]
  },
  {
   "cell_type": "markdown",
   "metadata": {},
   "source": [
    "P2 thus moves to Maximize to match P1, and now P2 is always winning"
   ]
  },
  {
   "cell_type": "code",
   "execution_count": null,
   "metadata": {
    "collapsed": false
   },
   "outputs": [],
   "source": [
    "GamePlayer(MaximizeScoreStrategy(), MaximizeScoreStrategy(), 9).Experiment()"
   ]
  },
  {
   "cell_type": "code",
   "execution_count": null,
   "metadata": {
    "collapsed": false
   },
   "outputs": [],
   "source": [
    "GamePlayer(RandomStrategy(), MaximizeScoreStrategy(), 9).Experiment()"
   ]
  },
  {
   "cell_type": "code",
   "execution_count": null,
   "metadata": {
    "collapsed": false
   },
   "outputs": [],
   "source": [
    "GamePlayer(MinimizeScoreStrategy(), MaximizeScoreStrategy(), 9).Experiment()"
   ]
  },
  {
   "cell_type": "code",
   "execution_count": null,
   "metadata": {
    "collapsed": false
   },
   "outputs": [],
   "source": [
    "GamePlayer(UseMostPiecesStrategy(), MaximizeScoreStrategy(), 9).Experiment()"
   ]
  },
  {
   "cell_type": "code",
   "execution_count": null,
   "metadata": {
    "collapsed": false
   },
   "outputs": [],
   "source": [
    "GamePlayer(UseLeastPiecesStrategy(), MaximizeScoreStrategy(), 9).Experiment()"
   ]
  },
  {
   "cell_type": "markdown",
   "metadata": {},
   "source": [
    "P2 seems to do very well with the maximize strategy with 1...9.  What about other games?"
   ]
  },
  {
   "cell_type": "code",
   "execution_count": null,
   "metadata": {
    "collapsed": false
   },
   "outputs": [],
   "source": [
    "df = pd.DataFrame(index=[4,5,6,7,8,9,10], columns=[-1,0,1])\n",
    "for i in df.index:\n",
    "    df.loc[i] = GamePlayer(MinimizeScoreStrategy(), MaximizeScoreStrategy(), i).Experiment()\n",
    "df"
   ]
  },
  {
   "cell_type": "code",
   "execution_count": null,
   "metadata": {
    "collapsed": false
   },
   "outputs": [],
   "source": [
    "s1 = MinimizeScoreStrategy()\n",
    "s2 = MinimizeScoreStrategy()\n",
    "gp = GamePlayer(s1, s2, 9)\n",
    "gp.Experiment()"
   ]
  },
  {
   "cell_type": "code",
   "execution_count": null,
   "metadata": {
    "collapsed": false
   },
   "outputs": [],
   "source": [
    "s1 = MinimizeScoreStrategy()\n",
    "s2 = RandomStrategy()\n",
    "gp = GamePlayer(s1, s2, 9)\n",
    "gp.Experiment()"
   ]
  },
  {
   "cell_type": "code",
   "execution_count": null,
   "metadata": {
    "collapsed": false
   },
   "outputs": [],
   "source": [
    "s1 = MinimizeScoreStrategy()\n",
    "s2 = MaximizeScoreStrategy()\n",
    "gp = GamePlayer(s1, s2, 9)\n",
    "gp.Experiment()"
   ]
  },
  {
   "cell_type": "code",
   "execution_count": null,
   "metadata": {
    "collapsed": false
   },
   "outputs": [],
   "source": [
    "s1 = MaximizeScoreStrategy()\n",
    "s2 = MinimizeScoreStrategy()\n",
    "gp = GamePlayer(s1, s2, 9)\n",
    "gp.Experiment()"
   ]
  },
  {
   "cell_type": "code",
   "execution_count": null,
   "metadata": {
    "collapsed": false
   },
   "outputs": [],
   "source": [
    "s1 = MaximizeScoreStrategy()\n",
    "s2 = MaximizeScoreStrategy()\n",
    "gp = GamePlayer(s1, s2, 9)\n",
    "gp.Experiment()"
   ]
  },
  {
   "cell_type": "code",
   "execution_count": null,
   "metadata": {
    "collapsed": true
   },
   "outputs": [],
   "source": [
    "s1 = RandomStrategy()\n",
    "s2 = RandomStrategy()\n",
    "gp = GamePlayer(s1, s2, 9)\n",
    "gp.Experiment()"
   ]
  },
  {
   "cell_type": "code",
   "execution_count": null,
   "metadata": {
    "collapsed": true
   },
   "outputs": [],
   "source": []
  },
  {
   "cell_type": "code",
   "execution_count": 24,
   "metadata": {
    "collapsed": false
   },
   "outputs": [],
   "source": [
    "class FastTreeExplore:\n",
    "    def __init__(self, n=4, trimming=True):\n",
    "        self.n = n\n",
    "        self.trimming = trimming\n",
    "        self.root = GameNode(board=make_board(n))\n",
    "    \n",
    "    def num_nodes(self):\n",
    "        def _explore(node):\n",
    "            n = 1\n",
    "            for move in node.possible_moves(self.trimming):\n",
    "                node.push_move(move)\n",
    "                n += _explore(node)\n",
    "                node.pop_move(move)\n",
    "            return n\n",
    "        return _explore(self.root)\n",
    "    \n",
    "    def avg_branching_factor(self):\n",
    "        d = {'count': 0, 'sumbranch': 0, 'maxbranch':0, 'avgbranch':0}\n",
    "        def _explore(node):\n",
    "            moves = node.possible_moves(self.trimming)\n",
    "            len_moves = len(moves)\n",
    "            if len_moves == 0:\n",
    "                return \n",
    "            else:\n",
    "                d['count'] += 1\n",
    "                d['sumbranch'] += len_moves\n",
    "                d['maxbranch'] = max(d['maxbranch'], len_moves)\n",
    "                for move in moves:\n",
    "                    node.push_move(move)\n",
    "                    _explore(node)\n",
    "                    node.pop_move(move)\n",
    "        _explore(self.root)\n",
    "        d['avgbranch'] = float(d['sumbranch'])/d['count']\n",
    "        return d\n",
    "    \n",
    "    def avg_branching_factor_by_level(self):\n",
    "        d = [{'count': 0, 'sumbranch': 0, 'maxbranch':0, 'avgbranch':0} for i in xrange(self.n)]\n",
    "        \n",
    "        def _explore(node):\n",
    "            moves = node.possible_moves(self.trimming)\n",
    "            len_moves = len(moves)\n",
    "            if len_moves == 0:\n",
    "                return \n",
    "            else:\n",
    "                level = d[node.level]\n",
    "                level['count'] += 1\n",
    "                level['sumbranch'] += len_moves\n",
    "                level['maxbranch'] = max(level['maxbranch'], len_moves)\n",
    "                for move in moves:\n",
    "                    node.push_move(move)\n",
    "                    _explore(node)\n",
    "                    node.pop_move(move)\n",
    "        _explore(self.root)\n",
    "        for level in d:\n",
    "            level['avgbranch'] = float(level['sumbranch'])/level['count']\n",
    "            \n",
    "        return d\n",
    "       \n",
    "    def random_play(self):\n",
    "        node = self.root\n",
    "        while True:\n",
    "            moves = node.possible_moves(self.trimming)\n",
    "            if not moves:\n",
    "                # gameover\n",
    "                break\n",
    "            else:\n",
    "                # more moves\n",
    "                move = random.choice(moves)\n",
    "                node.push_move(move)\n",
    "                \n",
    "        # return result from perspective of P1\n",
    "        result = node.winP1()\n",
    "        return result\n",
    "   \n",
    "    def count_win_lose_draw(self, startnode=None):\n",
    "        wld = {'WIN':0,'LOSE':0,'TIE':0,'TOTAL':0}\n",
    "               \n",
    "        def _explore(node):\n",
    "            moves = node.possible_moves(self.trimming)\n",
    "            if not moves:\n",
    "                win = node.winP1()\n",
    "                if win == 1:\n",
    "                    wld['WIN'] += 1\n",
    "                elif win == -1:\n",
    "                    wld['LOSE'] += 1\n",
    "                elif win == 0:\n",
    "                    wld['TIE'] += 1\n",
    "                wld['TOTAL'] += 1\n",
    "            else:\n",
    "                for move in moves:\n",
    "                    node.push_move(move)\n",
    "                    _explore(node)\n",
    "                    node.pop_move(move)\n",
    "                    \n",
    "        if startnode:\n",
    "            _explore(startnode)\n",
    "        else:\n",
    "            _explore(self.root)\n",
    "        \n",
    "        wld['WIN%']  = float(wld['WIN'])/wld['TOTAL']\n",
    "        wld['LOSE%']  = float(wld['LOSE'])/wld['TOTAL']\n",
    "        wld['TIE%']  = float(wld['TIE'])/wld['TOTAL']\n",
    "        \n",
    "        return wld\n",
    " \n",
    "    def count_win_lose_draw_cached(self, firstmove=None):\n",
    "        wld = {'WIN':0,'LOSE':0,'TIE':0,'TOTAL':0}\n",
    "        cache = {}\n",
    "               \n",
    "        def _explore(node):\n",
    "            key = node.make_key()\n",
    "            \n",
    "            # we've been here before, return the cached value\n",
    "            if cache.has_key(key):\n",
    "                return cache[key]\n",
    "            \n",
    "            result = np.array((0,0,0,0))\n",
    "            moves = node.possible_moves(self.trimming)\n",
    "            if not moves:\n",
    "                win = node.winP1()\n",
    "                if win == 1:\n",
    "                    return np.array((1,0,0,1))\n",
    "                elif win == -1:\n",
    "                    return np.array((0,1,0,1))\n",
    "                elif win == 0:\n",
    "                    return np.array((0,0,1,1))\n",
    "            else:\n",
    "                for move in moves:\n",
    "                    node.push_move(move)\n",
    "                    result += _explore(node)\n",
    "                    node.pop_move(move)\n",
    "            cache[key] = result\n",
    "            return result\n",
    "        \n",
    "        node = self.root\n",
    "        if firstmove:\n",
    "            node.push_move(firstmove)\n",
    "        \n",
    "        result = _explore(node)\n",
    "        \n",
    "        wld['WIN'] = result[0]\n",
    "        wld['LOSE'] = result[1]\n",
    "        wld['TIE'] = result[2]\n",
    "        wld['TOTAL'] = result[3]\n",
    "        wld['WIN%']  = float(wld['WIN'])/wld['TOTAL']\n",
    "        wld['LOSE%']  = float(wld['LOSE'])/wld['TOTAL']\n",
    "        wld['TIE%']  = float(wld['TIE'])/wld['TOTAL']\n",
    "        \n",
    "        return wld\n",
    "    \n",
    "    \n",
    "    def count_win_lose_draw_cached_fast(self, firstmove=None):\n",
    "        wld = {'WIN':0,'LOSE':0,'TIE':0,'TOTAL':0}\n",
    "        cache = {}\n",
    "        factarray = [factorial(i, exact=True) for i in xrange(self.n+1)]\n",
    "               \n",
    "        def _explore(node):\n",
    "            key = node.make_key()\n",
    "            \n",
    "            # we've been here before, return the cached value\n",
    "            if cache.has_key(key):\n",
    "                return cache[key]\n",
    "            \n",
    "            result = np.array((0,0,0,0))\n",
    "            moves = node.possible_moves(trimming=True)\n",
    "            if not moves:\n",
    "                win = node.winP1()\n",
    "                if win == 1:\n",
    "                    return np.array((1,0,0,1))\n",
    "                elif win == -1:\n",
    "                    return np.array((0,1,0,1))\n",
    "                elif win == 0:\n",
    "                    return np.array((0,0,1,1))\n",
    "            else:\n",
    "                for move in moves:\n",
    "                    if move[-1] < node.score():\n",
    "                        extra = factarray[len(move)]\n",
    "                    else:\n",
    "                        extra = factarray[len(move)-1]\n",
    "                    #print(\"%d %s\" % (extra, str(move)))\n",
    "\n",
    "\n",
    "                        \n",
    "                    node.push_move(move)\n",
    "                    result += _explore(node)*extra\n",
    "                    node.pop_move(move)\n",
    "            cache[key] = result\n",
    "            return result\n",
    "        \n",
    "        node = self.root\n",
    "        if firstmove:\n",
    "            node.push_move(firstmove)\n",
    "        \n",
    "        result = _explore(node)\n",
    "        \n",
    "        wld['WIN'] = result[0]\n",
    "        wld['LOSE'] = result[1]\n",
    "        wld['TIE'] = result[2]\n",
    "        wld['TOTAL'] = result[3]\n",
    "        wld['WIN%']  = float(wld['WIN'])/wld['TOTAL']\n",
    "        wld['LOSE%']  = float(wld['LOSE'])/wld['TOTAL']\n",
    "        wld['TIE%']  = float(wld['TIE'])/wld['TOTAL']\n",
    "        \n",
    "        return wld\n",
    "    \n",
    "    def find_duplicates(self):\n",
    "        d = collections.defaultdict(int)\n",
    "        \n",
    "        def _explore(node):\n",
    "            key = node.make_key()\n",
    "            d[key] += 1\n",
    "            d['TOTAL'] += 1\n",
    "            \n",
    "            moves = node.possible_moves(self.trimming)\n",
    "            if not moves:\n",
    "                return \n",
    "            else:\n",
    "                for move in moves:\n",
    "                    node.push_move(move)\n",
    "                    _explore(node)\n",
    "                    node.pop_move(move)\n",
    "        _explore(self.root)\n",
    "        \n",
    "        return d\n",
    "    \n",
    "    def unique_states(self):\n",
    "        cache = collections.defaultdict(int)\n",
    "        \n",
    "        def _explore(node):\n",
    "            key = node.make_key()\n",
    "            if cache.has_key(key):\n",
    "                return\n",
    "            else:\n",
    "                cache[key] += 1\n",
    "                cache['TOTAL'] += 1\n",
    "            \n",
    "            moves = node.possible_moves(self.trimming)\n",
    "            if not moves:\n",
    "                return \n",
    "            else:\n",
    "                for move in moves:\n",
    "                    node.push_move(move)\n",
    "                    _explore(node)\n",
    "                    node.pop_move(move)\n",
    "        _explore(self.root)\n",
    "        \n",
    "        return cache['TOTAL']\n",
    "    \n",
    "    def depth(self):\n",
    "        d = {'min':99999, 'max':0}\n",
    "        def _explore(node, depth):\n",
    "            moves = node.possible_moves(self.trimming)\n",
    "            if len(moves) == 0:\n",
    "                d['min'] = min(d['min'], depth)\n",
    "                d['max'] = max(d['max'], depth)\n",
    "            else:\n",
    "                for move in moves:\n",
    "                    node.push_move(move)\n",
    "                    _explore(node, depth+1)\n",
    "                    node.pop_move(move)\n",
    "        _explore(self.root, 0)\n",
    "        return d\n",
    "    \n",
    "    def mindepth_bfs(self):\n",
    "        queue = [self.root]\n",
    "        iqueue = 0\n",
    "        mindepth = 99999\n",
    "        while iqueue < len(queue):\n",
    "            node = queue[iqueue]\n",
    "            iqueue += 1 # this avoids popping, we can just leave nodes in the queue but ignore them\n",
    "            \n",
    "            # only expand the node if we might find a better solution\n",
    "            if node.level >= mindepth:\n",
    "                continue\n",
    "                \n",
    "            # expand the node\n",
    "            node.setmoves()\n",
    "            \n",
    "            for move in node.moves:\n",
    "                child = node.make_move(move)\n",
    "                if not child.board:\n",
    "                    # found a terminal node, check its depth\n",
    "                    mindepth = min(mindepth, child.level)\n",
    "                else:\n",
    "                    # not a terminal node, but only expand if its shallower than our shortest terminal game\n",
    "                    if child.level < mindepth:\n",
    "                        queue.append(child)\n",
    "            \n",
    "        return mindepth\n",
    "\n",
    "    \n",
    "    def mindepth_id(self):\n",
    "        # use iterative deepening\n",
    "        def _explore(node, depth, maxdepth):\n",
    "            #if depth >= maxdepth:\n",
    "            #    return maxdepth+1\n",
    "            \n",
    "            if node.sums[0] == 0:\n",
    "                # found a game that ends at maxdepth, we are done\n",
    "                return depth           \n",
    "            elif depth+1 <= maxdepth:\n",
    "                # haven't reached the maxdepth yet, keep looking\n",
    "                moves = node.possible_moves(self.trimming)\n",
    "                for move in moves:\n",
    "                    node.push_move(move)\n",
    "                    best = _explore(node, depth+1, maxdepth)\n",
    "                    node.pop_move(move)\n",
    "                    \n",
    "                    if best <= maxdepth:\n",
    "                        return best\n",
    "                # if here, we didn't find anything\n",
    "                return maxdepth+1\n",
    "            else:\n",
    "                # fail case, truncating\n",
    "                return maxdepth+1\n",
    "        \n",
    "        for iterdepth in xrange(1, self.n+1):\n",
    "            v = _explore(self.root, 0, iterdepth)\n",
    "            if v <= iterdepth:\n",
    "                return v\n",
    "        \n",
    "        return -1\n",
    "    \n",
    "    def mindepth(self):\n",
    "        d = {'min':99999}\n",
    "        def _explore(node, depth):\n",
    "            moves = node.possible_moves(self.trimming)\n",
    "            if not moves:\n",
    "                d['min'] = min(d['min'], depth)\n",
    "            elif d['min'] == depth+1:\n",
    "                # already found a min, don't search deeper\n",
    "                return \n",
    "            else:\n",
    "                # haven't reached the min yet, keep looking\n",
    "                for move in moves:\n",
    "                    node.push_move(move)\n",
    "                    _explore(node, depth+1)\n",
    "                    node.pop_move(move)\n",
    "                    \n",
    "                    # if we found an end game we don't have to search the rest\n",
    "                    if d['min'] == depth+1:\n",
    "                        break\n",
    "                        \n",
    "        _explore(self.root, 0)\n",
    "        return d['min']\n",
    " \n",
    "    \n",
    "    def num_terminals(self):\n",
    "        def _explore(node):\n",
    "            n = 0\n",
    "            moves = node.possible_moves(self.trimming)\n",
    "            if len(moves) == 0:\n",
    "                n+=1\n",
    "            else:\n",
    "                for move in moves:\n",
    "                    node.push_move(move)\n",
    "                    n += _explore(node)\n",
    "                    node.pop_move(move)\n",
    "            return n\n",
    "        return _explore(self.root)\n",
    "    \n",
    "        \n",
    "    def num_terminals_cached(self):\n",
    "        cache = collections.defaultdict(int)\n",
    "        def _explore(node):\n",
    "            n=0\n",
    "            moves = node.possible_moves(self.trimming)\n",
    "            if len(moves) == 0:\n",
    "                n+=1\n",
    "            else:\n",
    "                for move in moves:\n",
    "                    node.push_move(move)\n",
    "                    key = node.make_key()\n",
    "                    if cache.has_key(key):\n",
    "                        n += cache[key]\n",
    "                    else:\n",
    "                        value = _explore(node)\n",
    "                        n += value\n",
    "                        cache[key] = value\n",
    "                    node.pop_move(move)\n",
    "            return n\n",
    "        return _explore(self.root)\n",
    "    \n",
    "    def negamax(self):\n",
    "        # negamax code ported from https://en.wikipedia.org/wiki/Negamax\n",
    "        def _explore(node, depth, color):\n",
    "            #node.show2()\n",
    "            \n",
    "            if depth == 0:\n",
    "                return color * node.winP1()\n",
    "            moves = node.possible_moves(self.trimming)\n",
    "            if not moves:\n",
    "                return color * node.winP1()\n",
    "\n",
    "            bestValue = -100\n",
    "            for move in moves:\n",
    "                node.push_move(move)\n",
    "                val = -_explore(node, depth-1, -color)\n",
    "                node.pop_move(move)\n",
    "                bestValue = max( bestValue, val )\n",
    "            return bestValue\n",
    "                  \n",
    "        return _explore(self.root, self.n+1, 1)\n",
    "    \n",
    "    def negamax_cached(self):\n",
    "        # negamax code ported from https://en.wikipedia.org/wiki/Negamax\n",
    "        cache = collections.defaultdict(int)\n",
    "        \n",
    "        def _explore(node, depth, color):\n",
    "            #node.show2()\n",
    "            key = node.make_key()\n",
    "            if cache.has_key(key):\n",
    "                return cache[key]\n",
    "            \n",
    "            if depth == 0:\n",
    "                cache[key] = color * node.winP1()\n",
    "                return color * node.winP1()\n",
    "            moves = node.possible_moves(self.trimming)\n",
    "            if not moves:\n",
    "                cache[key] = color * node.winP1()\n",
    "                return color * node.winP1()\n",
    "\n",
    "            bestValue = -100\n",
    "            for move in moves:\n",
    "                node.push_move(move)\n",
    "                val = -_explore(node, depth-1, -color)\n",
    "                node.pop_move(move)\n",
    "                bestValue = max( bestValue, val )\n",
    "            cache[key] = bestValue\n",
    "            return bestValue\n",
    "        \n",
    "        return _explore(self.root, self.n+1, 1)\n",
    "    \n",
    "    \n",
    "            "
   ]
  },
  {
   "cell_type": "markdown",
   "metadata": {},
   "source": [
    "## Win Lose Draw ratios\n",
    "These are the actual win lose and draw ratios, not sampled from random play"
   ]
  },
  {
   "cell_type": "code",
   "execution_count": 27,
   "metadata": {
    "collapsed": false
   },
   "outputs": [
    {
     "data": {
      "text/plain": [
       "{'LOSE': 8,\n",
       " 'LOSE%': 0.3333333333333333,\n",
       " 'TIE': 8,\n",
       " 'TIE%': 0.3333333333333333,\n",
       " 'TOTAL': 24,\n",
       " 'WIN': 8,\n",
       " 'WIN%': 0.3333333333333333}"
      ]
     },
     "execution_count": 27,
     "metadata": {},
     "output_type": "execute_result"
    }
   ],
   "source": [
    "FastTreeExplore(4, trimming=False).count_win_lose_draw()"
   ]
  },
  {
   "cell_type": "code",
   "execution_count": 46,
   "metadata": {
    "collapsed": false
   },
   "outputs": [
    {
     "name": "stdout",
     "output_type": "stream",
     "text": [
      "([1, 2], {'WIN': 265, 'LOSE': 308, 'TIE%': 0.0, 'LOSE%': 0.537521815008726, 'TIE': 0, 'TOTAL': 573, 'WIN%': 0.462478184991274})\n",
      "([1, 4], {'WIN': 375, 'LOSE': 256, 'TIE%': 0.0, 'LOSE%': 0.40570522979397783, 'TIE': 0, 'TOTAL': 631, 'WIN%': 0.5942947702060222})\n",
      "([1, 5], {'WIN': 322, 'LOSE': 299, 'TIE%': 0.0, 'LOSE%': 0.48148148148148145, 'TIE': 0, 'TOTAL': 621, 'WIN%': 0.5185185185185185})\n",
      "([1, 6], {'WIN': 332, 'LOSE': 275, 'TIE%': 0.0, 'LOSE%': 0.45304777594728174, 'TIE': 0, 'TOTAL': 607, 'WIN%': 0.5469522240527183})\n",
      "([1, 7], {'WIN': 302, 'LOSE': 270, 'TIE%': 0.0, 'LOSE%': 0.47202797202797203, 'TIE': 0, 'TOTAL': 572, 'WIN%': 0.527972027972028})\n",
      "([1, 8], {'WIN': 296, 'LOSE': 238, 'TIE%': 0.0, 'LOSE%': 0.44569288389513106, 'TIE': 0, 'TOTAL': 534, 'WIN%': 0.5543071161048689})\n",
      "([1, 9], {'WIN': 238, 'LOSE': 256, 'TIE%': 0.0, 'LOSE%': 0.5182186234817814, 'TIE': 0, 'TOTAL': 494, 'WIN%': 0.4817813765182186})\n",
      "([2, 4], {'WIN': 458, 'LOSE': 203, 'TIE%': 0.0, 'LOSE%': 0.3071104387291982, 'TIE': 0, 'TOTAL': 661, 'WIN%': 0.6928895612708018})\n",
      "([2, 5], {'WIN': 355, 'LOSE': 280, 'TIE%': 0.0, 'LOSE%': 0.4409448818897638, 'TIE': 0, 'TOTAL': 635, 'WIN%': 0.5590551181102362})\n",
      "([2, 6], {'WIN': 331, 'LOSE': 258, 'TIE%': 0.0, 'LOSE%': 0.4380305602716469, 'TIE': 0, 'TOTAL': 589, 'WIN%': 0.5619694397283531})\n",
      "([2, 7], {'WIN': 261, 'LOSE': 274, 'TIE%': 0.0, 'LOSE%': 0.5121495327102804, 'TIE': 0, 'TOTAL': 535, 'WIN%': 0.48785046728971965})\n",
      "([2, 8], {'WIN': 251, 'LOSE': 226, 'TIE%': 0.0, 'LOSE%': 0.47379454926624737, 'TIE': 0, 'TOTAL': 477, 'WIN%': 0.5262054507337526})\n",
      "([2, 9], {'WIN': 165, 'LOSE': 233, 'TIE%': 0.0, 'LOSE%': 0.585427135678392, 'TIE': 0, 'TOTAL': 398, 'WIN%': 0.41457286432160806})\n",
      "([4], {'WIN': 2030, 'LOSE': 1632, 'TIE%': 0.0, 'LOSE%': 0.4456581103222283, 'TIE': 0, 'TOTAL': 3662, 'WIN%': 0.5543418896777718})\n",
      "([5], {'WIN': 1944, 'LOSE': 1744, 'TIE%': 0.0, 'LOSE%': 0.47288503253796094, 'TIE': 0, 'TOTAL': 3688, 'WIN%': 0.527114967462039})\n",
      "([6], {'WIN': 1882, 'LOSE': 1624, 'TIE%': 0.0, 'LOSE%': 0.4632059326868226, 'TIE': 0, 'TOTAL': 3506, 'WIN%': 0.5367940673131774})\n",
      "([7], {'WIN': 1929, 'LOSE': 1596, 'TIE%': 0.0, 'LOSE%': 0.45276595744680853, 'TIE': 0, 'TOTAL': 3525, 'WIN%': 0.5472340425531915})\n",
      "([8], {'WIN': 1752, 'LOSE': 1598, 'TIE%': 0.0, 'LOSE%': 0.47701492537313434, 'TIE': 0, 'TOTAL': 3350, 'WIN%': 0.5229850746268657})\n",
      "([9], {'WIN': 1718, 'LOSE': 1590, 'TIE%': 0.0, 'LOSE%': 0.48065296251511486, 'TIE': 0, 'TOTAL': 3308, 'WIN%': 0.5193470374848851})\n"
     ]
    }
   ],
   "source": [
    "n = 9\n",
    "fte = FastTreeExplore(n, trimming=True)\n",
    "fte.root.push_move([3])\n",
    "for move in fte.root.possible_moves(trimming=True):\n",
    "    fte.root.push_move(move)\n",
    "    print((move, fte.count_win_lose_draw()))\n",
    "    fte.root.pop_move(move)\n"
   ]
  },
  {
   "cell_type": "code",
   "execution_count": null,
   "metadata": {
    "collapsed": true
   },
   "outputs": [],
   "source": []
  },
  {
   "cell_type": "code",
   "execution_count": 164,
   "metadata": {
    "collapsed": false
   },
   "outputs": [
    {
     "name": "stdout",
     "output_type": "stream",
     "text": [
      "10 loops, best of 3: 59.2 ms per loop\n"
     ]
    }
   ],
   "source": [
    "%timeit FastTreeExplore(8, trimming=False).count_win_lose_draw_cached()"
   ]
  },
  {
   "cell_type": "code",
   "execution_count": 130,
   "metadata": {
    "collapsed": false
   },
   "outputs": [
    {
     "data": {
      "text/plain": [
       "{'LOSE': 64,\n",
       " 'LOSE%': 0.47761194029850745,\n",
       " 'TIE': 0,\n",
       " 'TIE%': 0.0,\n",
       " 'TOTAL': 134,\n",
       " 'WIN': 70,\n",
       " 'WIN%': 0.5223880597014925}"
      ]
     },
     "execution_count": 130,
     "metadata": {},
     "output_type": "execute_result"
    }
   ],
   "source": [
    "FastTreeExplore(5, trimming=False).count_win_lose_draw_cached_fast()"
   ]
  },
  {
   "cell_type": "code",
   "execution_count": 71,
   "metadata": {
    "collapsed": false
   },
   "outputs": [
    {
     "name": "stdout",
     "output_type": "stream",
     "text": [
      "[[1, 2, 3], [1, 3], [2, 1, 3], [2, 3], [3, 1], [3, 2]]\n",
      "[[1, 2, 3], [1, 3], [2, 3]]\n"
     ]
    }
   ],
   "source": [
    "t = FastTreeExplore(4)\n",
    "t.root.push_move([4])\n",
    "print(t.root.possible_moves(trimming=False))\n",
    "print(t.root.possible_moves(trimming=True))\n"
   ]
  },
  {
   "cell_type": "code",
   "execution_count": 39,
   "metadata": {
    "collapsed": false
   },
   "outputs": [
    {
     "name": "stdout",
     "output_type": "stream",
     "text": [
      "CPU times: user 206 µs, sys: 52 µs, total: 258 µs\n",
      "Wall time: 232 µs\n",
      "(3, {'WIN': 1, 'LOSE': 1, 'TIE%': 0.6666666666666666, 'LOSE%': 0.16666666666666666, 'TIE': 4, 'TOTAL': 6, 'WIN%': 0.16666666666666666})\n",
      "CPU times: user 585 µs, sys: 151 µs, total: 736 µs\n",
      "Wall time: 630 µs\n",
      "(4, {'WIN': 8, 'LOSE': 8, 'TIE%': 0.3333333333333333, 'LOSE%': 0.3333333333333333, 'TIE': 8, 'TOTAL': 24, 'WIN%': 0.3333333333333333})\n",
      "CPU times: user 1.72 ms, sys: 527 µs, total: 2.25 ms\n",
      "Wall time: 1.86 ms\n",
      "(5, {'WIN': 60, 'LOSE': 60, 'TIE%': 0.0, 'LOSE%': 0.5, 'TIE': 0, 'TOTAL': 120, 'WIN%': 0.5})\n",
      "CPU times: user 5.92 ms, sys: 2.17 ms, total: 8.09 ms\n",
      "Wall time: 6.47 ms\n",
      "(6, {'WIN': 360, 'LOSE': 360, 'TIE%': 0.0, 'LOSE%': 0.5, 'TIE': 0, 'TOTAL': 720, 'WIN%': 0.5})\n",
      "CPU times: user 20.1 ms, sys: 6.98 ms, total: 27.1 ms\n",
      "Wall time: 22.2 ms\n",
      "(7, {'WIN': 1944, 'LOSE': 1944, 'TIE%': 0.22857142857142856, 'LOSE%': 0.38571428571428573, 'TIE': 1152, 'TOTAL': 5040, 'WIN%': 0.38571428571428573})\n",
      "CPU times: user 65.9 ms, sys: 8.34 ms, total: 74.3 ms\n",
      "Wall time: 68.2 ms\n",
      "(8, {'WIN': 15696, 'LOSE': 15696, 'TIE%': 0.22142857142857142, 'LOSE%': 0.3892857142857143, 'TIE': 8928, 'TOTAL': 40320, 'WIN%': 0.3892857142857143})\n",
      "CPU times: user 208 ms, sys: 201 µs, total: 208 ms\n",
      "Wall time: 208 ms\n",
      "(9, {'WIN': 181440, 'LOSE': 181440, 'TIE%': 0.0, 'LOSE%': 0.5, 'TIE': 0, 'TOTAL': 362880, 'WIN%': 0.5})\n",
      "CPU times: user 730 ms, sys: 1.09 ms, total: 732 ms\n",
      "Wall time: 732 ms\n",
      "(10, {'WIN': 1814400, 'LOSE': 1814400, 'TIE%': 0.0, 'LOSE%': 0.5, 'TIE': 0, 'TOTAL': 3628800, 'WIN%': 0.5})\n",
      "CPU times: user 2.56 s, sys: 8.41 ms, total: 2.56 s\n",
      "Wall time: 2.57 s\n",
      "(11, {'WIN': 16727040, 'LOSE': 16727040, 'TIE%': 0.1619047619047619, 'LOSE%': 0.41904761904761906, 'TIE': 6462720, 'TOTAL': 39916800, 'WIN%': 0.41904761904761906})\n"
     ]
    },
    {
     "ename": "KeyboardInterrupt",
     "evalue": "",
     "output_type": "error",
     "traceback": [
      "\u001b[0;31m---------------------------------------------------------------------------\u001b[0m",
      "\u001b[0;31mKeyboardInterrupt\u001b[0m                         Traceback (most recent call last)",
      "\u001b[0;32m<ipython-input-39-6e4465fc9938>\u001b[0m in \u001b[0;36m<module>\u001b[0;34m()\u001b[0m\n\u001b[1;32m      2\u001b[0m \u001b[0mdf\u001b[0m \u001b[0;34m=\u001b[0m \u001b[0mpd\u001b[0m\u001b[0;34m.\u001b[0m\u001b[0mDataFrame\u001b[0m\u001b[0;34m(\u001b[0m\u001b[0mcolumns\u001b[0m\u001b[0;34m=\u001b[0m\u001b[0;34m[\u001b[0m\u001b[0;34m'WIN'\u001b[0m\u001b[0;34m,\u001b[0m \u001b[0;34m'WIN%'\u001b[0m\u001b[0;34m,\u001b[0m \u001b[0;34m'LOSE'\u001b[0m\u001b[0;34m,\u001b[0m \u001b[0;34m'LOSE%'\u001b[0m\u001b[0;34m,\u001b[0m \u001b[0;34m'TIE'\u001b[0m\u001b[0;34m,\u001b[0m \u001b[0;34m'TIE%'\u001b[0m\u001b[0;34m,\u001b[0m \u001b[0;34m'TOTAL'\u001b[0m\u001b[0;34m]\u001b[0m\u001b[0;34m,\u001b[0m \u001b[0mindex\u001b[0m\u001b[0;34m=\u001b[0m\u001b[0mr\u001b[0m\u001b[0;34m)\u001b[0m\u001b[0;34m\u001b[0m\u001b[0m\n\u001b[1;32m      3\u001b[0m \u001b[0;32mfor\u001b[0m \u001b[0mn\u001b[0m \u001b[0;32min\u001b[0m \u001b[0mr\u001b[0m\u001b[0;34m:\u001b[0m\u001b[0;34m\u001b[0m\u001b[0m\n\u001b[0;32m----> 4\u001b[0;31m     \u001b[0mget_ipython\u001b[0m\u001b[0;34m(\u001b[0m\u001b[0;34m)\u001b[0m\u001b[0;34m.\u001b[0m\u001b[0mmagic\u001b[0m\u001b[0;34m(\u001b[0m\u001b[0;34mu'time v = FastTreeExplore(n, trimming=False).count_win_lose_draw_cached()'\u001b[0m\u001b[0;34m)\u001b[0m\u001b[0;34m\u001b[0m\u001b[0m\n\u001b[0m\u001b[1;32m      5\u001b[0m     \u001b[0;32mprint\u001b[0m\u001b[0;34m(\u001b[0m\u001b[0;34m(\u001b[0m\u001b[0mn\u001b[0m\u001b[0;34m,\u001b[0m\u001b[0mv\u001b[0m\u001b[0;34m)\u001b[0m\u001b[0;34m)\u001b[0m\u001b[0;34m\u001b[0m\u001b[0m\n\u001b[1;32m      6\u001b[0m     \u001b[0mdf\u001b[0m\u001b[0;34m.\u001b[0m\u001b[0mloc\u001b[0m\u001b[0;34m[\u001b[0m\u001b[0mn\u001b[0m\u001b[0;34m]\u001b[0m \u001b[0;34m=\u001b[0m \u001b[0mv\u001b[0m\u001b[0;34m\u001b[0m\u001b[0m\n",
      "\u001b[0;32m/Library/Python/2.7/site-packages/IPython/core/interactiveshell.pyc\u001b[0m in \u001b[0;36mmagic\u001b[0;34m(self, arg_s)\u001b[0m\n\u001b[1;32m   2334\u001b[0m         \u001b[0mmagic_name\u001b[0m\u001b[0;34m,\u001b[0m \u001b[0m_\u001b[0m\u001b[0;34m,\u001b[0m \u001b[0mmagic_arg_s\u001b[0m \u001b[0;34m=\u001b[0m \u001b[0marg_s\u001b[0m\u001b[0;34m.\u001b[0m\u001b[0mpartition\u001b[0m\u001b[0;34m(\u001b[0m\u001b[0;34m' '\u001b[0m\u001b[0;34m)\u001b[0m\u001b[0;34m\u001b[0m\u001b[0m\n\u001b[1;32m   2335\u001b[0m         \u001b[0mmagic_name\u001b[0m \u001b[0;34m=\u001b[0m \u001b[0mmagic_name\u001b[0m\u001b[0;34m.\u001b[0m\u001b[0mlstrip\u001b[0m\u001b[0;34m(\u001b[0m\u001b[0mprefilter\u001b[0m\u001b[0;34m.\u001b[0m\u001b[0mESC_MAGIC\u001b[0m\u001b[0;34m)\u001b[0m\u001b[0;34m\u001b[0m\u001b[0m\n\u001b[0;32m-> 2336\u001b[0;31m         \u001b[0;32mreturn\u001b[0m \u001b[0mself\u001b[0m\u001b[0;34m.\u001b[0m\u001b[0mrun_line_magic\u001b[0m\u001b[0;34m(\u001b[0m\u001b[0mmagic_name\u001b[0m\u001b[0;34m,\u001b[0m \u001b[0mmagic_arg_s\u001b[0m\u001b[0;34m)\u001b[0m\u001b[0;34m\u001b[0m\u001b[0m\n\u001b[0m\u001b[1;32m   2337\u001b[0m \u001b[0;34m\u001b[0m\u001b[0m\n\u001b[1;32m   2338\u001b[0m     \u001b[0;31m#-------------------------------------------------------------------------\u001b[0m\u001b[0;34m\u001b[0m\u001b[0;34m\u001b[0m\u001b[0m\n",
      "\u001b[0;32m/Library/Python/2.7/site-packages/IPython/core/interactiveshell.pyc\u001b[0m in \u001b[0;36mrun_line_magic\u001b[0;34m(self, magic_name, line)\u001b[0m\n\u001b[1;32m   2255\u001b[0m                 \u001b[0mkwargs\u001b[0m\u001b[0;34m[\u001b[0m\u001b[0;34m'local_ns'\u001b[0m\u001b[0;34m]\u001b[0m \u001b[0;34m=\u001b[0m \u001b[0msys\u001b[0m\u001b[0;34m.\u001b[0m\u001b[0m_getframe\u001b[0m\u001b[0;34m(\u001b[0m\u001b[0mstack_depth\u001b[0m\u001b[0;34m)\u001b[0m\u001b[0;34m.\u001b[0m\u001b[0mf_locals\u001b[0m\u001b[0;34m\u001b[0m\u001b[0m\n\u001b[1;32m   2256\u001b[0m             \u001b[0;32mwith\u001b[0m \u001b[0mself\u001b[0m\u001b[0;34m.\u001b[0m\u001b[0mbuiltin_trap\u001b[0m\u001b[0;34m:\u001b[0m\u001b[0;34m\u001b[0m\u001b[0m\n\u001b[0;32m-> 2257\u001b[0;31m                 \u001b[0mresult\u001b[0m \u001b[0;34m=\u001b[0m \u001b[0mfn\u001b[0m\u001b[0;34m(\u001b[0m\u001b[0;34m*\u001b[0m\u001b[0margs\u001b[0m\u001b[0;34m,\u001b[0m\u001b[0;34m**\u001b[0m\u001b[0mkwargs\u001b[0m\u001b[0;34m)\u001b[0m\u001b[0;34m\u001b[0m\u001b[0m\n\u001b[0m\u001b[1;32m   2258\u001b[0m             \u001b[0;32mreturn\u001b[0m \u001b[0mresult\u001b[0m\u001b[0;34m\u001b[0m\u001b[0m\n\u001b[1;32m   2259\u001b[0m \u001b[0;34m\u001b[0m\u001b[0m\n",
      "\u001b[0;32m/Library/Python/2.7/site-packages/IPython/core/magics/execution.pyc\u001b[0m in \u001b[0;36mtime\u001b[0;34m(self, line, cell, local_ns)\u001b[0m\n",
      "\u001b[0;32m/Library/Python/2.7/site-packages/IPython/core/magic.pyc\u001b[0m in \u001b[0;36m<lambda>\u001b[0;34m(f, *a, **k)\u001b[0m\n\u001b[1;32m    191\u001b[0m     \u001b[0;31m# but it's overkill for just that one bit of state.\u001b[0m\u001b[0;34m\u001b[0m\u001b[0;34m\u001b[0m\u001b[0m\n\u001b[1;32m    192\u001b[0m     \u001b[0;32mdef\u001b[0m \u001b[0mmagic_deco\u001b[0m\u001b[0;34m(\u001b[0m\u001b[0marg\u001b[0m\u001b[0;34m)\u001b[0m\u001b[0;34m:\u001b[0m\u001b[0;34m\u001b[0m\u001b[0m\n\u001b[0;32m--> 193\u001b[0;31m         \u001b[0mcall\u001b[0m \u001b[0;34m=\u001b[0m \u001b[0;32mlambda\u001b[0m \u001b[0mf\u001b[0m\u001b[0;34m,\u001b[0m \u001b[0;34m*\u001b[0m\u001b[0ma\u001b[0m\u001b[0;34m,\u001b[0m \u001b[0;34m**\u001b[0m\u001b[0mk\u001b[0m\u001b[0;34m:\u001b[0m \u001b[0mf\u001b[0m\u001b[0;34m(\u001b[0m\u001b[0;34m*\u001b[0m\u001b[0ma\u001b[0m\u001b[0;34m,\u001b[0m \u001b[0;34m**\u001b[0m\u001b[0mk\u001b[0m\u001b[0;34m)\u001b[0m\u001b[0;34m\u001b[0m\u001b[0m\n\u001b[0m\u001b[1;32m    194\u001b[0m \u001b[0;34m\u001b[0m\u001b[0m\n\u001b[1;32m    195\u001b[0m         \u001b[0;32mif\u001b[0m \u001b[0mcallable\u001b[0m\u001b[0;34m(\u001b[0m\u001b[0marg\u001b[0m\u001b[0;34m)\u001b[0m\u001b[0;34m:\u001b[0m\u001b[0;34m\u001b[0m\u001b[0m\n",
      "\u001b[0;32m/Library/Python/2.7/site-packages/IPython/core/magics/execution.pyc\u001b[0m in \u001b[0;36mtime\u001b[0;34m(self, line, cell, local_ns)\u001b[0m\n\u001b[1;32m   1165\u001b[0m         \u001b[0;32melse\u001b[0m\u001b[0;34m:\u001b[0m\u001b[0;34m\u001b[0m\u001b[0m\n\u001b[1;32m   1166\u001b[0m             \u001b[0mst\u001b[0m \u001b[0;34m=\u001b[0m \u001b[0mclock2\u001b[0m\u001b[0;34m(\u001b[0m\u001b[0;34m)\u001b[0m\u001b[0;34m\u001b[0m\u001b[0m\n\u001b[0;32m-> 1167\u001b[0;31m             \u001b[0;32mexec\u001b[0m\u001b[0;34m(\u001b[0m\u001b[0mcode\u001b[0m\u001b[0;34m,\u001b[0m \u001b[0mglob\u001b[0m\u001b[0;34m,\u001b[0m \u001b[0mlocal_ns\u001b[0m\u001b[0;34m)\u001b[0m\u001b[0;34m\u001b[0m\u001b[0m\n\u001b[0m\u001b[1;32m   1168\u001b[0m             \u001b[0mend\u001b[0m \u001b[0;34m=\u001b[0m \u001b[0mclock2\u001b[0m\u001b[0;34m(\u001b[0m\u001b[0;34m)\u001b[0m\u001b[0;34m\u001b[0m\u001b[0m\n\u001b[1;32m   1169\u001b[0m             \u001b[0mout\u001b[0m \u001b[0;34m=\u001b[0m \u001b[0mNone\u001b[0m\u001b[0;34m\u001b[0m\u001b[0m\n",
      "\u001b[0;32m<timed exec>\u001b[0m in \u001b[0;36m<module>\u001b[0;34m()\u001b[0m\n",
      "\u001b[0;32m<ipython-input-38-d9baf45f1d2e>\u001b[0m in \u001b[0;36mcount_win_lose_draw_cached\u001b[0;34m(self, firstmove)\u001b[0m\n\u001b[1;32m    133\u001b[0m             \u001b[0mnode\u001b[0m\u001b[0;34m.\u001b[0m\u001b[0mpush_move\u001b[0m\u001b[0;34m(\u001b[0m\u001b[0mfirstmove\u001b[0m\u001b[0;34m)\u001b[0m\u001b[0;34m\u001b[0m\u001b[0m\n\u001b[1;32m    134\u001b[0m \u001b[0;34m\u001b[0m\u001b[0m\n\u001b[0;32m--> 135\u001b[0;31m         \u001b[0mresult\u001b[0m \u001b[0;34m=\u001b[0m \u001b[0m_explore\u001b[0m\u001b[0;34m(\u001b[0m\u001b[0mnode\u001b[0m\u001b[0;34m)\u001b[0m\u001b[0;34m\u001b[0m\u001b[0m\n\u001b[0m\u001b[1;32m    136\u001b[0m \u001b[0;34m\u001b[0m\u001b[0m\n\u001b[1;32m    137\u001b[0m         \u001b[0mwld\u001b[0m\u001b[0;34m[\u001b[0m\u001b[0;34m'WIN'\u001b[0m\u001b[0;34m]\u001b[0m \u001b[0;34m=\u001b[0m \u001b[0mresult\u001b[0m\u001b[0;34m[\u001b[0m\u001b[0;36m0\u001b[0m\u001b[0;34m]\u001b[0m\u001b[0;34m\u001b[0m\u001b[0m\n",
      "\u001b[0;32m<ipython-input-38-d9baf45f1d2e>\u001b[0m in \u001b[0;36m_explore\u001b[0;34m(node)\u001b[0m\n\u001b[1;32m    124\u001b[0m                 \u001b[0;32mfor\u001b[0m \u001b[0mmove\u001b[0m \u001b[0;32min\u001b[0m \u001b[0mmoves\u001b[0m\u001b[0;34m:\u001b[0m\u001b[0;34m\u001b[0m\u001b[0m\n\u001b[1;32m    125\u001b[0m                     \u001b[0mnode\u001b[0m\u001b[0;34m.\u001b[0m\u001b[0mpush_move\u001b[0m\u001b[0;34m(\u001b[0m\u001b[0mmove\u001b[0m\u001b[0;34m)\u001b[0m\u001b[0;34m\u001b[0m\u001b[0m\n\u001b[0;32m--> 126\u001b[0;31m                     \u001b[0mresult\u001b[0m \u001b[0;34m+=\u001b[0m \u001b[0m_explore\u001b[0m\u001b[0;34m(\u001b[0m\u001b[0mnode\u001b[0m\u001b[0;34m)\u001b[0m\u001b[0;34m\u001b[0m\u001b[0m\n\u001b[0m\u001b[1;32m    127\u001b[0m                     \u001b[0mnode\u001b[0m\u001b[0;34m.\u001b[0m\u001b[0mpop_move\u001b[0m\u001b[0;34m(\u001b[0m\u001b[0mmove\u001b[0m\u001b[0;34m)\u001b[0m\u001b[0;34m\u001b[0m\u001b[0m\n\u001b[1;32m    128\u001b[0m             \u001b[0mcache\u001b[0m\u001b[0;34m[\u001b[0m\u001b[0mkey\u001b[0m\u001b[0;34m]\u001b[0m \u001b[0;34m=\u001b[0m \u001b[0mresult\u001b[0m\u001b[0;34m\u001b[0m\u001b[0m\n",
      "\u001b[0;32m<ipython-input-38-d9baf45f1d2e>\u001b[0m in \u001b[0;36m_explore\u001b[0;34m(node)\u001b[0m\n\u001b[1;32m    124\u001b[0m                 \u001b[0;32mfor\u001b[0m \u001b[0mmove\u001b[0m \u001b[0;32min\u001b[0m \u001b[0mmoves\u001b[0m\u001b[0;34m:\u001b[0m\u001b[0;34m\u001b[0m\u001b[0m\n\u001b[1;32m    125\u001b[0m                     \u001b[0mnode\u001b[0m\u001b[0;34m.\u001b[0m\u001b[0mpush_move\u001b[0m\u001b[0;34m(\u001b[0m\u001b[0mmove\u001b[0m\u001b[0;34m)\u001b[0m\u001b[0;34m\u001b[0m\u001b[0m\n\u001b[0;32m--> 126\u001b[0;31m                     \u001b[0mresult\u001b[0m \u001b[0;34m+=\u001b[0m \u001b[0m_explore\u001b[0m\u001b[0;34m(\u001b[0m\u001b[0mnode\u001b[0m\u001b[0;34m)\u001b[0m\u001b[0;34m\u001b[0m\u001b[0m\n\u001b[0m\u001b[1;32m    127\u001b[0m                     \u001b[0mnode\u001b[0m\u001b[0;34m.\u001b[0m\u001b[0mpop_move\u001b[0m\u001b[0;34m(\u001b[0m\u001b[0mmove\u001b[0m\u001b[0;34m)\u001b[0m\u001b[0;34m\u001b[0m\u001b[0m\n\u001b[1;32m    128\u001b[0m             \u001b[0mcache\u001b[0m\u001b[0;34m[\u001b[0m\u001b[0mkey\u001b[0m\u001b[0;34m]\u001b[0m \u001b[0;34m=\u001b[0m \u001b[0mresult\u001b[0m\u001b[0;34m\u001b[0m\u001b[0m\n",
      "\u001b[0;32m<ipython-input-38-d9baf45f1d2e>\u001b[0m in \u001b[0;36m_explore\u001b[0;34m(node)\u001b[0m\n\u001b[1;32m    124\u001b[0m                 \u001b[0;32mfor\u001b[0m \u001b[0mmove\u001b[0m \u001b[0;32min\u001b[0m \u001b[0mmoves\u001b[0m\u001b[0;34m:\u001b[0m\u001b[0;34m\u001b[0m\u001b[0m\n\u001b[1;32m    125\u001b[0m                     \u001b[0mnode\u001b[0m\u001b[0;34m.\u001b[0m\u001b[0mpush_move\u001b[0m\u001b[0;34m(\u001b[0m\u001b[0mmove\u001b[0m\u001b[0;34m)\u001b[0m\u001b[0;34m\u001b[0m\u001b[0m\n\u001b[0;32m--> 126\u001b[0;31m                     \u001b[0mresult\u001b[0m \u001b[0;34m+=\u001b[0m \u001b[0m_explore\u001b[0m\u001b[0;34m(\u001b[0m\u001b[0mnode\u001b[0m\u001b[0;34m)\u001b[0m\u001b[0;34m\u001b[0m\u001b[0m\n\u001b[0m\u001b[1;32m    127\u001b[0m                     \u001b[0mnode\u001b[0m\u001b[0;34m.\u001b[0m\u001b[0mpop_move\u001b[0m\u001b[0;34m(\u001b[0m\u001b[0mmove\u001b[0m\u001b[0;34m)\u001b[0m\u001b[0;34m\u001b[0m\u001b[0m\n\u001b[1;32m    128\u001b[0m             \u001b[0mcache\u001b[0m\u001b[0;34m[\u001b[0m\u001b[0mkey\u001b[0m\u001b[0;34m]\u001b[0m \u001b[0;34m=\u001b[0m \u001b[0mresult\u001b[0m\u001b[0;34m\u001b[0m\u001b[0m\n",
      "\u001b[0;32m<ipython-input-38-d9baf45f1d2e>\u001b[0m in \u001b[0;36m_explore\u001b[0;34m(node)\u001b[0m\n\u001b[1;32m    124\u001b[0m                 \u001b[0;32mfor\u001b[0m \u001b[0mmove\u001b[0m \u001b[0;32min\u001b[0m \u001b[0mmoves\u001b[0m\u001b[0;34m:\u001b[0m\u001b[0;34m\u001b[0m\u001b[0m\n\u001b[1;32m    125\u001b[0m                     \u001b[0mnode\u001b[0m\u001b[0;34m.\u001b[0m\u001b[0mpush_move\u001b[0m\u001b[0;34m(\u001b[0m\u001b[0mmove\u001b[0m\u001b[0;34m)\u001b[0m\u001b[0;34m\u001b[0m\u001b[0m\n\u001b[0;32m--> 126\u001b[0;31m                     \u001b[0mresult\u001b[0m \u001b[0;34m+=\u001b[0m \u001b[0m_explore\u001b[0m\u001b[0;34m(\u001b[0m\u001b[0mnode\u001b[0m\u001b[0;34m)\u001b[0m\u001b[0;34m\u001b[0m\u001b[0m\n\u001b[0m\u001b[1;32m    127\u001b[0m                     \u001b[0mnode\u001b[0m\u001b[0;34m.\u001b[0m\u001b[0mpop_move\u001b[0m\u001b[0;34m(\u001b[0m\u001b[0mmove\u001b[0m\u001b[0;34m)\u001b[0m\u001b[0;34m\u001b[0m\u001b[0m\n\u001b[1;32m    128\u001b[0m             \u001b[0mcache\u001b[0m\u001b[0;34m[\u001b[0m\u001b[0mkey\u001b[0m\u001b[0;34m]\u001b[0m \u001b[0;34m=\u001b[0m \u001b[0mresult\u001b[0m\u001b[0;34m\u001b[0m\u001b[0m\n",
      "\u001b[0;32m<ipython-input-38-d9baf45f1d2e>\u001b[0m in \u001b[0;36m_explore\u001b[0;34m(node)\u001b[0m\n\u001b[1;32m    124\u001b[0m                 \u001b[0;32mfor\u001b[0m \u001b[0mmove\u001b[0m \u001b[0;32min\u001b[0m \u001b[0mmoves\u001b[0m\u001b[0;34m:\u001b[0m\u001b[0;34m\u001b[0m\u001b[0m\n\u001b[1;32m    125\u001b[0m                     \u001b[0mnode\u001b[0m\u001b[0;34m.\u001b[0m\u001b[0mpush_move\u001b[0m\u001b[0;34m(\u001b[0m\u001b[0mmove\u001b[0m\u001b[0;34m)\u001b[0m\u001b[0;34m\u001b[0m\u001b[0m\n\u001b[0;32m--> 126\u001b[0;31m                     \u001b[0mresult\u001b[0m \u001b[0;34m+=\u001b[0m \u001b[0m_explore\u001b[0m\u001b[0;34m(\u001b[0m\u001b[0mnode\u001b[0m\u001b[0;34m)\u001b[0m\u001b[0;34m\u001b[0m\u001b[0m\n\u001b[0m\u001b[1;32m    127\u001b[0m                     \u001b[0mnode\u001b[0m\u001b[0;34m.\u001b[0m\u001b[0mpop_move\u001b[0m\u001b[0;34m(\u001b[0m\u001b[0mmove\u001b[0m\u001b[0;34m)\u001b[0m\u001b[0;34m\u001b[0m\u001b[0m\n\u001b[1;32m    128\u001b[0m             \u001b[0mcache\u001b[0m\u001b[0;34m[\u001b[0m\u001b[0mkey\u001b[0m\u001b[0;34m]\u001b[0m \u001b[0;34m=\u001b[0m \u001b[0mresult\u001b[0m\u001b[0;34m\u001b[0m\u001b[0m\n",
      "\u001b[0;32m<ipython-input-38-d9baf45f1d2e>\u001b[0m in \u001b[0;36m_explore\u001b[0;34m(node)\u001b[0m\n\u001b[1;32m    124\u001b[0m                 \u001b[0;32mfor\u001b[0m \u001b[0mmove\u001b[0m \u001b[0;32min\u001b[0m \u001b[0mmoves\u001b[0m\u001b[0;34m:\u001b[0m\u001b[0;34m\u001b[0m\u001b[0m\n\u001b[1;32m    125\u001b[0m                     \u001b[0mnode\u001b[0m\u001b[0;34m.\u001b[0m\u001b[0mpush_move\u001b[0m\u001b[0;34m(\u001b[0m\u001b[0mmove\u001b[0m\u001b[0;34m)\u001b[0m\u001b[0;34m\u001b[0m\u001b[0m\n\u001b[0;32m--> 126\u001b[0;31m                     \u001b[0mresult\u001b[0m \u001b[0;34m+=\u001b[0m \u001b[0m_explore\u001b[0m\u001b[0;34m(\u001b[0m\u001b[0mnode\u001b[0m\u001b[0;34m)\u001b[0m\u001b[0;34m\u001b[0m\u001b[0m\n\u001b[0m\u001b[1;32m    127\u001b[0m                     \u001b[0mnode\u001b[0m\u001b[0;34m.\u001b[0m\u001b[0mpop_move\u001b[0m\u001b[0;34m(\u001b[0m\u001b[0mmove\u001b[0m\u001b[0;34m)\u001b[0m\u001b[0;34m\u001b[0m\u001b[0m\n\u001b[1;32m    128\u001b[0m             \u001b[0mcache\u001b[0m\u001b[0;34m[\u001b[0m\u001b[0mkey\u001b[0m\u001b[0;34m]\u001b[0m \u001b[0;34m=\u001b[0m \u001b[0mresult\u001b[0m\u001b[0;34m\u001b[0m\u001b[0m\n",
      "\u001b[0;32m<ipython-input-38-d9baf45f1d2e>\u001b[0m in \u001b[0;36m_explore\u001b[0;34m(node)\u001b[0m\n\u001b[1;32m    124\u001b[0m                 \u001b[0;32mfor\u001b[0m \u001b[0mmove\u001b[0m \u001b[0;32min\u001b[0m \u001b[0mmoves\u001b[0m\u001b[0;34m:\u001b[0m\u001b[0;34m\u001b[0m\u001b[0m\n\u001b[1;32m    125\u001b[0m                     \u001b[0mnode\u001b[0m\u001b[0;34m.\u001b[0m\u001b[0mpush_move\u001b[0m\u001b[0;34m(\u001b[0m\u001b[0mmove\u001b[0m\u001b[0;34m)\u001b[0m\u001b[0;34m\u001b[0m\u001b[0m\n\u001b[0;32m--> 126\u001b[0;31m                     \u001b[0mresult\u001b[0m \u001b[0;34m+=\u001b[0m \u001b[0m_explore\u001b[0m\u001b[0;34m(\u001b[0m\u001b[0mnode\u001b[0m\u001b[0;34m)\u001b[0m\u001b[0;34m\u001b[0m\u001b[0m\n\u001b[0m\u001b[1;32m    127\u001b[0m                     \u001b[0mnode\u001b[0m\u001b[0;34m.\u001b[0m\u001b[0mpop_move\u001b[0m\u001b[0;34m(\u001b[0m\u001b[0mmove\u001b[0m\u001b[0;34m)\u001b[0m\u001b[0;34m\u001b[0m\u001b[0m\n\u001b[1;32m    128\u001b[0m             \u001b[0mcache\u001b[0m\u001b[0;34m[\u001b[0m\u001b[0mkey\u001b[0m\u001b[0;34m]\u001b[0m \u001b[0;34m=\u001b[0m \u001b[0mresult\u001b[0m\u001b[0;34m\u001b[0m\u001b[0m\n",
      "\u001b[0;32m<ipython-input-38-d9baf45f1d2e>\u001b[0m in \u001b[0;36m_explore\u001b[0;34m(node)\u001b[0m\n\u001b[1;32m    125\u001b[0m                     \u001b[0mnode\u001b[0m\u001b[0;34m.\u001b[0m\u001b[0mpush_move\u001b[0m\u001b[0;34m(\u001b[0m\u001b[0mmove\u001b[0m\u001b[0;34m)\u001b[0m\u001b[0;34m\u001b[0m\u001b[0m\n\u001b[1;32m    126\u001b[0m                     \u001b[0mresult\u001b[0m \u001b[0;34m+=\u001b[0m \u001b[0m_explore\u001b[0m\u001b[0;34m(\u001b[0m\u001b[0mnode\u001b[0m\u001b[0;34m)\u001b[0m\u001b[0;34m\u001b[0m\u001b[0m\n\u001b[0;32m--> 127\u001b[0;31m                     \u001b[0mnode\u001b[0m\u001b[0;34m.\u001b[0m\u001b[0mpop_move\u001b[0m\u001b[0;34m(\u001b[0m\u001b[0mmove\u001b[0m\u001b[0;34m)\u001b[0m\u001b[0;34m\u001b[0m\u001b[0m\n\u001b[0m\u001b[1;32m    128\u001b[0m             \u001b[0mcache\u001b[0m\u001b[0;34m[\u001b[0m\u001b[0mkey\u001b[0m\u001b[0;34m]\u001b[0m \u001b[0;34m=\u001b[0m \u001b[0mresult\u001b[0m\u001b[0;34m\u001b[0m\u001b[0m\n\u001b[1;32m    129\u001b[0m             \u001b[0;32mreturn\u001b[0m \u001b[0mresult\u001b[0m\u001b[0;34m\u001b[0m\u001b[0m\n",
      "\u001b[0;32m<ipython-input-37-0e8235d97660>\u001b[0m in \u001b[0;36mpop_move\u001b[0;34m(self, move)\u001b[0m\n\u001b[1;32m     64\u001b[0m         \u001b[0;31m# swap in/out players\u001b[0m\u001b[0;34m\u001b[0m\u001b[0;34m\u001b[0m\u001b[0m\n\u001b[1;32m     65\u001b[0m         \u001b[0mself\u001b[0m\u001b[0;34m.\u001b[0m\u001b[0mmovein_player\u001b[0m\u001b[0;34m,\u001b[0m \u001b[0mself\u001b[0m\u001b[0;34m.\u001b[0m\u001b[0mmoveout_player\u001b[0m \u001b[0;34m=\u001b[0m \u001b[0mself\u001b[0m\u001b[0;34m.\u001b[0m\u001b[0mmoveout_player\u001b[0m\u001b[0;34m,\u001b[0m \u001b[0mself\u001b[0m\u001b[0;34m.\u001b[0m\u001b[0mmovein_player\u001b[0m\u001b[0;34m\u001b[0m\u001b[0m\n\u001b[0;32m---> 66\u001b[0;31m         \u001b[0mself\u001b[0m\u001b[0;34m.\u001b[0m\u001b[0mlevel\u001b[0m \u001b[0;34m-=\u001b[0m \u001b[0;36m1\u001b[0m\u001b[0;34m\u001b[0m\u001b[0m\n\u001b[0m\u001b[1;32m     67\u001b[0m         \u001b[0;32mfor\u001b[0m \u001b[0mm\u001b[0m \u001b[0;32min\u001b[0m \u001b[0mmove\u001b[0m\u001b[0;34m:\u001b[0m\u001b[0;34m\u001b[0m\u001b[0m\n\u001b[1;32m     68\u001b[0m             \u001b[0mself\u001b[0m\u001b[0;34m.\u001b[0m\u001b[0mboard\u001b[0m\u001b[0;34m.\u001b[0m\u001b[0madd\u001b[0m\u001b[0;34m(\u001b[0m\u001b[0mm\u001b[0m\u001b[0;34m)\u001b[0m\u001b[0;34m\u001b[0m\u001b[0m\n",
      "\u001b[0;31mKeyboardInterrupt\u001b[0m: "
     ]
    }
   ],
   "source": [
    "r = range(3,21)\n",
    "df = pd.DataFrame(columns=['WIN', 'WIN%', 'LOSE', 'LOSE%', 'TIE', 'TIE%', 'TOTAL'], index=r)\n",
    "for n in r:\n",
    "    %time v = FastTreeExplore(n, trimming=False).count_win_lose_draw_cached()\n",
    "    print((n,v))\n",
    "    df.loc[n] = v\n",
    "win_lose_draw_table = df\n",
    "win_lose_draw_table"
   ]
  },
  {
   "cell_type": "code",
   "execution_count": null,
   "metadata": {
    "collapsed": false
   },
   "outputs": [],
   "source": [
    "%time FastTreeExplore(9).negamax_cached()"
   ]
  },
  {
   "cell_type": "code",
   "execution_count": null,
   "metadata": {
    "collapsed": false
   },
   "outputs": [],
   "source": [
    "t = TreeBuilder(5)\n",
    "t.build(cache=True)\n",
    "t.calc_results()\n",
    "-t.root.result"
   ]
  },
  {
   "cell_type": "markdown",
   "metadata": {},
   "source": [
    "## does the first move matter?"
   ]
  },
  {
   "cell_type": "code",
   "execution_count": null,
   "metadata": {
    "collapsed": false
   },
   "outputs": [],
   "source": [
    "n=7\n",
    "df = pd.DataFrame(columns=['WIN', 'WIN%', 'LOSE', 'LOSE%', 'TIE', 'TIE%', 'TOTAL'], index=range(0,n))\n",
    "for fm in xrange(0,n+1):\n",
    "    if fm == 0:\n",
    "        v = FastTreeExplore(n, trimming=False).count_win_lose_draw_cached()\n",
    "    else:\n",
    "        v = FastTreeExplore(n, trimming=False).count_win_lose_draw_cached([fm])\n",
    "    #print(([fm],v))\n",
    "    df.loc[fm] = v\n",
    "win_lose_draw_table = df\n",
    "win_lose_draw_table"
   ]
  },
  {
   "cell_type": "code",
   "execution_count": null,
   "metadata": {
    "collapsed": false
   },
   "outputs": [],
   "source": [
    "(win_lose_draw_table - win_lose_draw_table.loc[0])*100\n"
   ]
  },
  {
   "cell_type": "code",
   "execution_count": null,
   "metadata": {
    "collapsed": false
   },
   "outputs": [],
   "source": [
    "print(win_lose_draw_table.to_latex())"
   ]
  },
  {
   "cell_type": "markdown",
   "metadata": {},
   "source": [
    "## Random Play\n",
    "\n",
    "What are the odds of losing, winning, or tying given random play?"
   ]
  },
  {
   "cell_type": "code",
   "execution_count": 41,
   "metadata": {
    "collapsed": false
   },
   "outputs": [
    {
     "data": {
      "text/html": [
       "<div>\n",
       "<table border=\"1\" class=\"dataframe\">\n",
       "  <thead>\n",
       "    <tr style=\"text-align: right;\">\n",
       "      <th></th>\n",
       "      <th>8</th>\n",
       "    </tr>\n",
       "  </thead>\n",
       "  <tbody>\n",
       "    <tr>\n",
       "      <th>-1</th>\n",
       "      <td>0.3875</td>\n",
       "    </tr>\n",
       "    <tr>\n",
       "      <th>0</th>\n",
       "      <td>0.1951</td>\n",
       "    </tr>\n",
       "    <tr>\n",
       "      <th>1</th>\n",
       "      <td>0.4174</td>\n",
       "    </tr>\n",
       "  </tbody>\n",
       "</table>\n",
       "</div>"
      ],
      "text/plain": [
       "         8\n",
       "-1  0.3875\n",
       " 0  0.1951\n",
       " 1  0.4174"
      ]
     },
     "execution_count": 41,
     "metadata": {},
     "output_type": "execute_result"
    }
   ],
   "source": [
    "df = pd.DataFrame(columns=range(8,9), index=[-1,0,1])\n",
    "n = 10000\n",
    "for c in df.columns:\n",
    "    df[c] = pd.Series([FastTreeExplore(c, trimming=False).random_play() for i in xrange(n)]).value_counts()\n",
    "df = df.fillna(0)\n",
    "df = df/n\n",
    "random_win_lose_draw = df\n",
    "random_win_lose_draw"
   ]
  },
  {
   "cell_type": "code",
   "execution_count": 34,
   "metadata": {
    "collapsed": false
   },
   "outputs": [
    {
     "data": {
      "text/plain": [
       "[0, 0, 0, 0, 0, 0, 0, 0, 0, 0]"
      ]
     },
     "execution_count": 34,
     "metadata": {},
     "output_type": "execute_result"
    }
   ],
   "source": [
    "[FastTreeExplore(7).random_play() for i in xrange(10)]"
   ]
  },
  {
   "cell_type": "code",
   "execution_count": 12,
   "metadata": {
    "collapsed": false
   },
   "outputs": [
    {
     "data": {
      "text/plain": [
       "1"
      ]
     },
     "execution_count": 12,
     "metadata": {},
     "output_type": "execute_result"
    }
   ],
   "source": [
    "FastTreeExplore(7).random_play()\n"
   ]
  },
  {
   "cell_type": "code",
   "execution_count": 10,
   "metadata": {
    "collapsed": false
   },
   "outputs": [
    {
     "data": {
      "text/plain": [
       "0"
      ]
     },
     "execution_count": 10,
     "metadata": {},
     "output_type": "execute_result"
    }
   ],
   "source": [
    "FastTreeExplore(4).negamax()"
   ]
  },
  {
   "cell_type": "code",
   "execution_count": null,
   "metadata": {
    "collapsed": false
   },
   "outputs": [],
   "source": [
    "t = FastTreeExplore(8)\n",
    "d = t.find_duplicates()\n",
    "print((len(d)-1, d['TOTAL']))\n",
    "t.unique_states()"
   ]
  },
  {
   "cell_type": "code",
   "execution_count": null,
   "metadata": {
    "collapsed": false
   },
   "outputs": [],
   "source": [
    "def FindAvgBranchingFactor(n):\n",
    "    t = FastTreeExplore(n)\n",
    "    d = t.avg_branching_factor()\n",
    "    return d\n",
    "\n",
    "df = pd.DataFrame({'_n': range(3,11), 'avgbranch':0, 'count':0, 'maxbranch':0, 'sumbranch':0})\n",
    "for i in df.index:\n",
    "    n = df['_n'][i]\n",
    "    d = FindAvgBranchingFactor(n)\n",
    "    df.iloc[i] = (n, d['avgbranch'], d['count'], d['maxbranch'], d['sumbranch'])\n",
    "    \n",
    "#df['avgbranch'] = df['n'].apply(FindAvgBranchingFactor)\n",
    "branching_factor_df = df\n",
    "branching_factor_df"
   ]
  },
  {
   "cell_type": "code",
   "execution_count": null,
   "metadata": {
    "collapsed": false
   },
   "outputs": [],
   "source": [
    "def FindAvgBranchingFactorByLevel(n):\n",
    "    t = FastTreeExplore(n, trimming=False)\n",
    "    d = t.avg_branching_factor_by_level()\n",
    "    return d\n",
    "\n",
    "def MakeAvgBranchingFactorByLevelTable(n):\n",
    "    df = pd.DataFrame(index=range(n), columns=['avgbranch', 'count', 'maxbranch', 'sumbranch'])\n",
    "    d = FindAvgBranchingFactorByLevel(n)\n",
    "    for i, row in enumerate(d):\n",
    "        df.iloc[i] = row\n",
    "    return df[['avgbranch', 'maxbranch']].transpose()\n",
    "    "
   ]
  },
  {
   "cell_type": "code",
   "execution_count": null,
   "metadata": {
    "collapsed": false
   },
   "outputs": [],
   "source": [
    "df = MakeAvgBranchingFactorByLevelTable(10)\n",
    "df"
   ]
  },
  {
   "cell_type": "code",
   "execution_count": null,
   "metadata": {
    "collapsed": false
   },
   "outputs": [],
   "source": [
    "df = MakeAvgBranchingFactorByLevelTable(12)\n",
    "df"
   ]
  },
  {
   "cell_type": "code",
   "execution_count": 15,
   "metadata": {
    "collapsed": false
   },
   "outputs": [
    {
     "data": {
      "text/plain": [
       "2"
      ]
     },
     "execution_count": 15,
     "metadata": {},
     "output_type": "execute_result"
    }
   ],
   "source": [
    "DoCountMaxMoves(2)"
   ]
  },
  {
   "cell_type": "code",
   "execution_count": null,
   "metadata": {
    "collapsed": false
   },
   "outputs": [],
   "source": [
    "newdf = df[['avgbranch', 'maxbranch']].transpose()\n",
    "\n",
    "print(newdf.to_latex())"
   ]
  },
  {
   "cell_type": "code",
   "execution_count": 16,
   "metadata": {
    "collapsed": false
   },
   "outputs": [
    {
     "data": {
      "text/html": [
       "<div>\n",
       "<table border=\"1\" class=\"dataframe\">\n",
       "  <thead>\n",
       "    <tr style=\"text-align: right;\">\n",
       "      <th></th>\n",
       "      <th>n</th>\n",
       "      <th>maxbranch</th>\n",
       "    </tr>\n",
       "  </thead>\n",
       "  <tbody>\n",
       "    <tr>\n",
       "      <th>0</th>\n",
       "      <td>1</td>\n",
       "      <td>1</td>\n",
       "    </tr>\n",
       "    <tr>\n",
       "      <th>1</th>\n",
       "      <td>2</td>\n",
       "      <td>2</td>\n",
       "    </tr>\n",
       "    <tr>\n",
       "      <th>2</th>\n",
       "      <td>3</td>\n",
       "      <td>3</td>\n",
       "    </tr>\n",
       "    <tr>\n",
       "      <th>3</th>\n",
       "      <td>4</td>\n",
       "      <td>6</td>\n",
       "    </tr>\n",
       "    <tr>\n",
       "      <th>4</th>\n",
       "      <td>5</td>\n",
       "      <td>16</td>\n",
       "    </tr>\n",
       "    <tr>\n",
       "      <th>5</th>\n",
       "      <td>6</td>\n",
       "      <td>36</td>\n",
       "    </tr>\n",
       "    <tr>\n",
       "      <th>6</th>\n",
       "      <td>7</td>\n",
       "      <td>78</td>\n",
       "    </tr>\n",
       "    <tr>\n",
       "      <th>7</th>\n",
       "      <td>8</td>\n",
       "      <td>150</td>\n",
       "    </tr>\n",
       "    <tr>\n",
       "      <th>8</th>\n",
       "      <td>9</td>\n",
       "      <td>272</td>\n",
       "    </tr>\n",
       "    <tr>\n",
       "      <th>9</th>\n",
       "      <td>10</td>\n",
       "      <td>474</td>\n",
       "    </tr>\n",
       "  </tbody>\n",
       "</table>\n",
       "</div>"
      ],
      "text/plain": [
       "    n  maxbranch\n",
       "0   1          1\n",
       "1   2          2\n",
       "2   3          3\n",
       "3   4          6\n",
       "4   5         16\n",
       "5   6         36\n",
       "6   7         78\n",
       "7   8        150\n",
       "8   9        272\n",
       "9  10        474"
      ]
     },
     "execution_count": 16,
     "metadata": {},
     "output_type": "execute_result"
    }
   ],
   "source": [
    "df = pd.DataFrame({'n':range(1,11)})\n",
    "#df['maxbranch'] = pd.Series([DoCountMaxMoves(n) for n in range(5,51,5)])\n",
    "\n",
    "df['maxbranch'] = df['n'].apply(DoCountMaxMoves)\n",
    "df"
   ]
  },
  {
   "cell_type": "code",
   "execution_count": null,
   "metadata": {
    "collapsed": false
   },
   "outputs": [],
   "source": [
    "%%cython -a\n",
    "import copy\n",
    "\n",
    "def test():\n",
    "    print(\"hello\")\n"
   ]
  },
  {
   "cell_type": "code",
   "execution_count": 4,
   "metadata": {
    "collapsed": false
   },
   "outputs": [
    {
     "name": "stderr",
     "output_type": "stream",
     "text": [
      "ERROR: Cell magic `%%cython` not found.\n"
     ]
    }
   ],
   "source": [
    "%%cython -a\n",
    "import copy\n",
    "\n",
    "def make_board(n=7):\n",
    "    board = set(range(1,n+1))\n",
    "    return board\n",
    "\n",
    "cdef class FastGameNode:\n",
    "    cdef int sums[3]\n",
    "    cdef int movein_player, moveout_player\n",
    "    cdef set board\n",
    "    cdef int level\n",
    "    \n",
    "    def __init__(self, movein_player=2, board=make_board(), level=0):\n",
    "        self.sums[0] = sum(board)\n",
    "        self.sums[1] = 0\n",
    "        self.sums[2] = 0    \n",
    "        self.movein_player = movein_player\n",
    "        self.moveout_player = 3-movein_player\n",
    "        self.board = board\n",
    "        self.level = level\n",
    "                \n",
    "    cdef void push_move(self, list move):\n",
    "        # this is used for modifying a GameNode to a new state if you don't care about building a complete tree\n",
    "        \n",
    "        # swap in/out players\n",
    "        self.movein_player, self.moveout_player = self.moveout_player, self.movein_player\n",
    "        self.level += 1\n",
    "        cdef int m\n",
    "        for m in move:\n",
    "            self.board.discard(m)\n",
    "            self.sums[self.movein_player] += m\n",
    "            self.sums[0] -= m\n",
    "\n",
    "    cdef void pop_move(self, list move):\n",
    "        # this is used for modifying a GameNode to a new state if you don't care about building a complete tree\n",
    "        \n",
    "        # swap in/out players\n",
    "        self.movein_player, self.moveout_player = self.moveout_player, self.movein_player\n",
    "        self.level -= 1\n",
    "        cdef int m\n",
    "        for m in move:\n",
    "            self.board.add(m)\n",
    "            self.sums[self.moveout_player] -= m\n",
    "            self.sums[0] += m\n",
    "        \n",
    "    #cdef void make_moves_list(self, moves_out)\n",
    "    def generate_move(self, maxplay, sum_move, move, picks, trimming):\n",
    "        cdef int maxpick\n",
    "        cdef int csum_move = sum_move\n",
    "        cdef int cmaxplay = maxplay\n",
    "        \n",
    "        if move:\n",
    "            maxpick = max(move)\n",
    "        else:\n",
    "            maxpick = 0\n",
    "            \n",
    "        cdef int len_move_plus_1 = len(move)+1\n",
    "        cdef int len_picks = len(picks)\n",
    "        cdef int pick\n",
    "\n",
    "        for pick in picks:\n",
    "            if pick < maxpick:\n",
    "                # only emit the moves in increasing order \n",
    "                # (i.e don't emit both 2,3 and 3,2 if you are behind by 4, just emit 2,3)\n",
    "                if trimming:\n",
    "                    continue\n",
    "\n",
    "            if pick in move:\n",
    "                # can't pick something you've already picked\n",
    "                continue\n",
    "\n",
    "            move.append(pick)\n",
    "            if len_move_plus_1 == len_picks:\n",
    "                yield list(move)\n",
    "            elif csum_move+pick >= cmaxplay:\n",
    "                yield list(move)\n",
    "            else:\n",
    "                for m in self.generate_move(cmaxplay, csum_move+pick, move, picks, trimming):\n",
    "                    yield m\n",
    "            move.pop()\n",
    "            \n",
    "    def count_moves(self, maxplay, sum_move, move, picks, trimming):\n",
    "        cdef int maxpick\n",
    "        cdef int csum_move = sum_move\n",
    "        cdef int cmaxplay = maxplay\n",
    "        count = 0\n",
    "        \n",
    "        if move:\n",
    "            maxpick = max(move)\n",
    "        else:\n",
    "            maxpick = 0\n",
    "            \n",
    "        cdef int len_move_plus_1 = len(move)+1\n",
    "        cdef int len_picks = len(picks)\n",
    "        cdef int pick\n",
    "\n",
    "        for pick in picks:\n",
    "            if pick < maxpick:\n",
    "                # only emit the moves in increasing order \n",
    "                # (i.e don't emit both 2,3 and 3,2 if you are behind by 4, just emit 2,3)\n",
    "                if trimming:\n",
    "                    continue\n",
    "\n",
    "            if pick in move:\n",
    "                # can't pick something you've already picked\n",
    "                continue\n",
    "\n",
    "            move.append(pick)\n",
    "            if len_move_plus_1 == len_picks:\n",
    "                count += 1\n",
    "            elif csum_move+pick >= cmaxplay:\n",
    "                count += 1\n",
    "            else:\n",
    "                count += self.count_moves(cmaxplay, csum_move+pick, move, picks, trimming)\n",
    "            move.pop()\n",
    "        return count\n",
    "    \n",
    "    cdef str make_key(self, str extra=\"\"):\n",
    "        return \"%d:%d/%d:%s:%s\" % (self.movein_player, self.sums[1], self.sums[2], str(self.board), extra)\n",
    "    \n",
    "    cdef int scoreP1(self):\n",
    "        cdef int sA = self.sums[1]\n",
    "        cdef int sB = self.sums[2]\n",
    "        return sA-sB\n",
    "    \n",
    "    cdef int win(self):\n",
    "        cdef int s = self.score()\n",
    "        if s < 0:\n",
    "            return -1\n",
    "        elif s > 0:\n",
    "            return 1\n",
    "        else:\n",
    "            return 0\n",
    "    \n",
    "    cdef int winP1(self):\n",
    "        cdef int s = self.scoreP1()\n",
    "        if s < 0:\n",
    "            return -1\n",
    "        elif s > 0:\n",
    "            return 1\n",
    "        else:\n",
    "            return 0\n",
    "    \n",
    "    cdef int score(self):\n",
    "        cdef int sA = self.sums[self.movein_player]\n",
    "        cdef int sB = self.sums[self.moveout_player]\n",
    "        return sA-sB\n",
    "    \n",
    "    cdef int gameover(self):\n",
    "        return self.sums[0] == 0\n",
    "    \n",
    "    cdef list possible_moves(self, int trimming):\n",
    "        # A is the current player\n",
    "        # B is the opponent player\n",
    "        cdef int sA = self.sums[self.moveout_player]\n",
    "        cdef int sB = self.sums[self.movein_player]\n",
    "\n",
    "        cdef int maxplay = sB - sA\n",
    "        #assert maxplay >= 0\n",
    "\n",
    "        cdef list moves = list(self.generate_move(maxplay, 0, [], self.board, trimming))\n",
    "        return moves\n",
    "    \n",
    "    \n",
    "    def count_possible_moves(self, trimming=True):\n",
    "        # A is the current player\n",
    "        # B is the opponent player\n",
    "        cdef int sA = self.sums[self.moveout_player]\n",
    "        cdef int sB = self.sums[self.movein_player]\n",
    "\n",
    "        cdef int maxplay = sB - sA\n",
    "        #assert maxplay >= 0\n",
    "\n",
    "        return self.count_moves(maxplay, 0, [], self.board, trimming)\n",
    "\n",
    "\n",
    "cdef tuple _FastCountWinLoseDraw_explore(FastGameNode node, dict cache):\n",
    "    cdef str key = node.make_key()\n",
    "    cdef int[4] value\n",
    "    cdef int[4] result\n",
    "\n",
    "    # we've been here before, return the cached value\n",
    "    if cache.has_key(key):\n",
    "        return cache[key]\n",
    "\n",
    "    result = [0,0,0,0]\n",
    "    moves = node.possible_moves(False)\n",
    "    if not moves:\n",
    "        win = node.winP1()\n",
    "        if win == 1:\n",
    "            return (1,0,0,1)\n",
    "        elif win == -1:\n",
    "            return (0,1,0,1)\n",
    "        elif win == 0:\n",
    "            return (0,0,1,1)\n",
    "    else:\n",
    "        for move in moves:\n",
    "            node.push_move(move)\n",
    "            value = _FastCountWinLoseDraw_explore(node, cache)\n",
    "            result[0] += value[0]\n",
    "            result[1] += value[1]\n",
    "            result[2] += value[2]\n",
    "            result[3] += value[3]\n",
    "            node.pop_move(move)\n",
    "    t = tuple(result)\n",
    "    cache[key] = t\n",
    "    return t\n",
    "\n",
    "\n",
    "\n",
    "def FastCountWinLoseDraw(n, firstmove=None):\n",
    "    wld = {'WIN':0,'LOSE':0,'TIE':0,'TOTAL':0}\n",
    "    cache = {}         \n",
    "        \n",
    "    node = FastGameNode(board=make_board(n))\n",
    "    if firstmove:\n",
    "        node.push_move(firstmove)\n",
    "        \n",
    "    result = _FastCountWinLoseDraw_explore(node, cache)\n",
    "        \n",
    "    wld['WIN'] = result[0]\n",
    "    wld['LOSE'] = result[1]\n",
    "    wld['TIE'] = result[2]\n",
    "    wld['TOTAL'] = result[3]\n",
    "    wld['WIN%']  = float(wld['WIN'])/wld['TOTAL']\n",
    "    wld['LOSE%']  = float(wld['LOSE'])/wld['TOTAL']\n",
    "    wld['TIE%']  = float(wld['TIE'])/wld['TOTAL']\n",
    "        \n",
    "    return wld\n",
    "        \n",
    "cdef int _FastMinDepth_explore(FastGameNode node, int depth, int maxdepth):\n",
    "        #if depth >= maxdepth:\n",
    "        #    return maxdepth+1\n",
    "\n",
    "        if node.gameover():\n",
    "            # found a game that ends at maxdepth, we are done\n",
    "            return depth           \n",
    "        elif depth+1 <= maxdepth:\n",
    "            # haven't reached the maxdepth yet, keep looking\n",
    "            moves = node.possible_moves(True)\n",
    "            for move in moves:\n",
    "                node.push_move(move)\n",
    "                best = _FastMinDepth_explore(node, depth+1, maxdepth)\n",
    "                node.pop_move(move)\n",
    "\n",
    "                if best <= maxdepth:\n",
    "                    return best\n",
    "            # if here, we didn't find anything\n",
    "            return maxdepth+1\n",
    "        else:\n",
    "            # fail case, truncating\n",
    "            return maxdepth+1\n",
    "        \n",
    "cdef int FastMinDepth(int n=10):\n",
    "    # use iterative deepening\n",
    "    cdef FastGameNode root = FastGameNode(board=make_board(n))\n",
    "    \n",
    "    cdef int iterdepth\n",
    "    cdef int v\n",
    "    for iterdepth in xrange(1, n+1):\n",
    "        v = _FastMinDepth_explore(root, 0, iterdepth)\n",
    "        if v <= iterdepth:\n",
    "            return v\n",
    "\n",
    "    return -1\n",
    "\n",
    "   \n",
    "def DoAvgBranchingFactor(n=7):\n",
    "    cdef FastGameNode root = FastGameNode(board=make_board(n))\n",
    "\n",
    "\n",
    "\n",
    "def DoFastMinDepth(n=10):\n",
    "    return FastMinDepth(n)\n",
    "\n",
    "def DoCountMaxMoves(n=10):\n",
    "    maxcount = 0\n",
    "    cdef FastGameNode root\n",
    "\n",
    "    for i in xrange(1,n+1):\n",
    "        root = FastGameNode(board=make_board(n))\n",
    "        \n",
    "        # check first move\n",
    "        count = root.count_possible_moves(trimming=False)\n",
    "        maxcount = max(maxcount, count)\n",
    "        \n",
    "        # check second move\n",
    "        root.push_move([i])\n",
    "        count = root.count_possible_moves(trimming=False)\n",
    "        maxcount = max(maxcount, count)\n",
    "    \n",
    "    return maxcount"
   ]
  },
  {
   "cell_type": "code",
   "execution_count": 172,
   "metadata": {
    "collapsed": false
   },
   "outputs": [
    {
     "name": "stdout",
     "output_type": "stream",
     "text": [
      "CPU times: user 20h 23min 33s, sys: 2min 32s, total: 20h 26min 6s\n",
      "Wall time: 1d 9h 13min 31s\n"
     ]
    },
    {
     "data": {
      "text/plain": [
       "{'LOSE': -1479704576,\n",
       " 'LOSE%': -13.49581589958159,\n",
       " 'TIE': -1225916416,\n",
       " 'TIE%': -11.181111775254035,\n",
       " 'TOTAL': 109641728,\n",
       " 'WIN': -1479704576,\n",
       " 'WIN%': -13.49581589958159}"
      ]
     },
     "execution_count": 172,
     "metadata": {},
     "output_type": "execute_result"
    }
   ],
   "source": [
    "%time FastCountWinLoseDraw(19)"
   ]
  },
  {
   "cell_type": "code",
   "execution_count": 171,
   "metadata": {
    "collapsed": false
   },
   "outputs": [
    {
     "name": "stdout",
     "output_type": "stream",
     "text": [
      "CPU times: user 7.63 s, sys: 22.5 ms, total: 7.65 s\n",
      "Wall time: 7.68 s\n"
     ]
    },
    {
     "data": {
      "text/plain": [
       "{'LOSE': 203420160,\n",
       " 'LOSE%': 0.42467532467532465,\n",
       " 'TIE': 72161280,\n",
       " 'TIE%': 0.15064935064935064,\n",
       " 'TOTAL': 479001600,\n",
       " 'WIN': 203420160,\n",
       " 'WIN%': 0.42467532467532465}"
      ]
     },
     "execution_count": 171,
     "metadata": {},
     "output_type": "execute_result"
    }
   ],
   "source": [
    "%time FastTreeExplore(12, trimming=False).count_win_lose_draw_cached()"
   ]
  },
  {
   "cell_type": "code",
   "execution_count": null,
   "metadata": {
    "collapsed": false
   },
   "outputs": [],
   "source": [
    "def MaxSelections(n):\n",
    "    return np.floor(np.sqrt(2*n-7.0/4)+.5)\n",
    "\n",
    "df = pd.DataFrame({'n':range(5,51,5)})\n",
    "#df = pd.DataFrame({'n':range(1,10,1)})\n",
    "#df['maxbranch'] = pd.Series([DoCountMaxMoves(n) for n in range(5,51,5)])\n",
    "\n",
    "df['maxselect'] = df['n'].apply(MaxSelections)\n",
    "df['maxbranch'] = df['n'].apply(DoCountMaxMoves)\n",
    "#print(df.transpose().to_latex())\n",
    "df"
   ]
  },
  {
   "cell_type": "code",
   "execution_count": null,
   "metadata": {
    "collapsed": false
   },
   "outputs": [],
   "source": [
    "def MaxSelections(n):\n",
    "    return np.floor(np.sqrt(2*n-7.0/4)+.5)\n",
    "\n",
    "df = pd.DataFrame({'n':range(3,21,1)})\n",
    "#df = pd.DataFrame({'n':range(1,10,1)})\n",
    "#df['maxbranch'] = pd.Series([DoCountMaxMoves(n) for n in range(5,51,5)])\n",
    "\n",
    "df['maxselect'] = df['n'].apply(MaxSelections)\n",
    "df['maxbranch'] = df['n'].apply(DoCountMaxMoves)\n",
    "#print(df.transpose().to_latex())\n",
    "df"
   ]
  },
  {
   "cell_type": "code",
   "execution_count": null,
   "metadata": {
    "collapsed": false
   },
   "outputs": [],
   "source": [
    "x = pd.Series(range(1,100))\n",
    "y = np.sqrt(x)*np.log(x)\n",
    "s = np.sqrt(x)\n",
    "l = np.log(x)\n",
    "df = pd.DataFrame({'x':x,'y':y,'s':s,'l':l})\n",
    "df.plot()"
   ]
  },
  {
   "cell_type": "code",
   "execution_count": 8,
   "metadata": {
    "collapsed": false
   },
   "outputs": [
    {
     "name": "stderr",
     "output_type": "stream",
     "text": [
      "\n",
      "Error compiling Cython file:\n",
      "------------------------------------------------------------\n",
      "...\n",
      "        return\n",
      "    else:\n",
      "        cache[key] = 1\n",
      "        cache['TOTAL'] += 1\n",
      "\n",
      "    cdef list moves = node.possible_moves(self.trimming)\n",
      "                                             ^\n",
      "------------------------------------------------------------\n",
      "\n",
      "/Users/aisaksen/.ipython/cython/_cython_magic_66afbd745b5d95ba703872bcaaff89ac.pyx:187:46: undeclared name not builtin: self\n"
     ]
    }
   ],
   "source": [
    "%%cython -a\n",
    "import copy\n",
    "\n",
    "def make_board(n=7):\n",
    "    board = set(range(1,n+1))\n",
    "    return board\n",
    "\n",
    "cdef class FastGameNode:\n",
    "    cdef int sums[3]\n",
    "    cdef int movein_player, moveout_player\n",
    "    cdef set board\n",
    "    cdef int level\n",
    "    \n",
    "    def __init__(self, movein_player=2, board=make_board(), level=0):\n",
    "        self.sums[0] = sum(board)\n",
    "        self.sums[1] = 0\n",
    "        self.sums[2] = 0    \n",
    "        self.movein_player = movein_player\n",
    "        self.moveout_player = 3-movein_player\n",
    "        self.board = board\n",
    "        self.level = level\n",
    "                \n",
    "    cdef void push_move(self, list move):\n",
    "        # this is used for modifying a GameNode to a new state if you don't care about building a complete tree\n",
    "        \n",
    "        # swap in/out players\n",
    "        self.movein_player, self.moveout_player = self.moveout_player, self.movein_player\n",
    "        self.level += 1\n",
    "        cdef int m\n",
    "        for m in move:\n",
    "            self.board.discard(m)\n",
    "            self.sums[self.movein_player] += m\n",
    "            self.sums[0] -= m\n",
    "\n",
    "    cdef void pop_move(self, list move):\n",
    "        # this is used for modifying a GameNode to a new state if you don't care about building a complete tree\n",
    "        \n",
    "        # swap in/out players\n",
    "        self.movein_player, self.moveout_player = self.moveout_player, self.movein_player\n",
    "        self.level -= 1\n",
    "        cdef int m\n",
    "        for m in move:\n",
    "            self.board.add(m)\n",
    "            self.sums[self.moveout_player] -= m\n",
    "            self.sums[0] += m\n",
    "        \n",
    "    cdef str make_key(self, str extra=\"\"):\n",
    "        return \"%d:%d/%d:%s:%s\" % (self.movein_player, self.sums[1], self.sums[2], str(self.board), extra)\n",
    "\n",
    "    cdef int scoreP1(self):\n",
    "        cdef int sA = self.sums[1]\n",
    "        cdef int sB = self.sums[2]\n",
    "        return sA-sB\n",
    "    \n",
    "    cdef int win(self):\n",
    "        cdef int s = self.score()\n",
    "        if s < 0:\n",
    "            return -1\n",
    "        elif s > 0:\n",
    "            return 1\n",
    "        else:\n",
    "            return 0\n",
    "    \n",
    "    cdef int winP1(self):\n",
    "        cdef int s = self.scoreP1()\n",
    "        if s < 0:\n",
    "            return -1\n",
    "        elif s > 0:\n",
    "            return 1\n",
    "        else:\n",
    "            return 0\n",
    "    \n",
    "    cdef int score(self):\n",
    "        cdef int sA = self.sums[self.movein_player]\n",
    "        cdef int sB = self.sums[self.moveout_player]\n",
    "        return sA-sB\n",
    "\n",
    "    def generate_move(self, maxplay, sum_move, move, picks):\n",
    "        cdef int maxpick\n",
    "        cdef int csum_move = sum_move\n",
    "        cdef int cmaxplay = maxplay\n",
    "        \n",
    "        if move:\n",
    "            maxpick = max(move)\n",
    "        else:\n",
    "            maxpick = 0\n",
    "            \n",
    "        cdef int len_move_plus_1 = len(move)+1\n",
    "        cdef int len_picks = len(picks)\n",
    "        cdef int pick\n",
    "\n",
    "        for pick in picks:\n",
    "            if pick < maxpick:\n",
    "                # only emit the moves in increasing order \n",
    "                # (i.e don't emit both 2,3 and 3,2 if you are behind by 4, just emit 2,3)\n",
    "                continue\n",
    "\n",
    "            if pick in move:\n",
    "                # can't pick something you've already picked\n",
    "                continue\n",
    "\n",
    "            move.append(pick)\n",
    "            if len_move_plus_1 == len_picks:\n",
    "                yield list(move)\n",
    "            elif csum_move+pick >= cmaxplay:\n",
    "                yield list(move)\n",
    "            else:\n",
    "                for m in self.generate_move(cmaxplay, csum_move+pick, move, picks):\n",
    "                    yield m\n",
    "            move.pop()\n",
    "    \n",
    "    cdef int gameover(self):\n",
    "        return self.sums[0] == 0\n",
    "    \n",
    "    def possible_moves(self):\n",
    "        # A is the current player\n",
    "        # B is the opponent player\n",
    "        cdef int sA = self.sums[self.moveout_player]\n",
    "        cdef int sB = self.sums[self.movein_player]\n",
    "\n",
    "        cdef int maxplay = sB - sA\n",
    "        #assert maxplay >= 0\n",
    "\n",
    "        moves = list(self.generate_move(maxplay, 0, [], self.board))\n",
    "        return moves\n",
    "      \n",
    "        \n",
    "cdef int _FastMinDepth_explore(FastGameNode node, int depth, int maxdepth, dict cache):\n",
    "    #if depth >= maxdepth:\n",
    "    #    return maxdepth+1\n",
    "\n",
    "    key = node.make_key(str(depth))\n",
    "    if cache.has_key(key):\n",
    "        return cache[key]\n",
    "    \n",
    "    if node.gameover():\n",
    "        # found a game that ends at depth, we are done\n",
    "        cache[key] = depth\n",
    "        return depth           \n",
    "    elif depth+1 <= maxdepth:\n",
    "        # haven't reached the maxdepth yet, keep looking\n",
    "        moves = node.possible_moves()\n",
    "        for move in moves:\n",
    "            node.push_move(move)\n",
    "            best = _FastMinDepth_explore(node, depth+1, maxdepth, cache)\n",
    "            node.pop_move(move)\n",
    "\n",
    "            if best <= maxdepth:\n",
    "                cache[key] = best\n",
    "                return best\n",
    "        # if here, we didn't find anything\n",
    "        cache[key] = maxdepth+1\n",
    "        return maxdepth+1\n",
    "    else:\n",
    "        # fail case, truncating\n",
    "        cache[key] = maxdepth+1\n",
    "        return maxdepth+1\n",
    "\n",
    "\n",
    "def FastMinDepth(n=10, start=None, end=None):\n",
    "    # use iterative deepening\n",
    "    cdef FastGameNode root = FastGameNode(board=make_board(n))\n",
    "    cdef dict cache = {}\n",
    "    \n",
    "    if start == None:\n",
    "        start = 1\n",
    "    if end == None:\n",
    "        end = n\n",
    "\n",
    "    cdef int iterdepth\n",
    "    cdef int v\n",
    "    for iterdepth in xrange(start, end+1):\n",
    "        cache = {}\n",
    "        v = _FastMinDepth_explore(root, 0, iterdepth, cache)\n",
    "        if v <= iterdepth:\n",
    "            return v\n",
    "\n",
    "    return -1\n",
    "    \n",
    "cdef void _explore_FastUniqueStates(FastGameNode node, dict cache):\n",
    "    cdef str key = node.make_key()\n",
    "    if cache.has_key(key):\n",
    "        return\n",
    "    else:\n",
    "        cache[key] = 1\n",
    "        cache['TOTAL'] += 1\n",
    "\n",
    "    cdef list moves = node.possible_moves(self.trimming)\n",
    "    cdef list move\n",
    "    if not moves:\n",
    "        return \n",
    "    else:\n",
    "        for move in moves:\n",
    "            node.push_move(move)\n",
    "            _explore_FastUniqueStates(node, cache)\n",
    "            node.pop_move(move)\n",
    "\n",
    "def FastUniqueStates(n=8):\n",
    "    cdef dict cache = {'TOTAL':0}\n",
    "    cdef FastGameNode root = FastGameNode(board=make_board(n))\n",
    "   \n",
    "    _explore_FastUniqueStates(root, cache)\n",
    "        \n",
    "    return cache['TOTAL']\n",
    "\n",
    "cdef int _explore_FastNegamax(FastGameNode node, int depth, int color, dict cache):\n",
    "    #node.show2()\n",
    "    cdef str key = node.make_key()\n",
    "    if cache.has_key(key):\n",
    "        return cache[key]\n",
    "\n",
    "    if depth == 0:\n",
    "        cache[key] = color * node.winP1()\n",
    "        return color * node.winP1()\n",
    "    \n",
    "    cdef list moves = node.possible_moves()\n",
    "    if not moves:\n",
    "        cache[key] = color * node.winP1()\n",
    "        return color * node.winP1()\n",
    "\n",
    "    cdef int bestValue = -100\n",
    "    cdef int val\n",
    "    \n",
    "    for move in moves:\n",
    "        node.push_move(move)\n",
    "        val = -_explore_FastNegamax(node, depth-1, -color, cache)\n",
    "        node.pop_move(move)\n",
    "        bestValue = max( bestValue, val )\n",
    "        # can't get any better than 1\n",
    "        if bestValue == 1:\n",
    "            break\n",
    "    cache[key] = bestValue\n",
    "    return bestValue\n",
    "\n",
    "\n",
    "def FastNegamax(n=8):\n",
    "    cdef FastGameNode root = FastGameNode(board=make_board(n))\n",
    "\n",
    "    # negamax code ported from https://en.wikipedia.org/wiki/Negamax\n",
    "    cache = {}\n",
    "        \n",
    "    return _explore_FastNegamax(root, n+1, 1, cache)\n",
    "\n",
    "\n",
    "    \n",
    "\n",
    "    "
   ]
  },
  {
   "cell_type": "code",
   "execution_count": null,
   "metadata": {
    "collapsed": false
   },
   "outputs": [],
   "source": [
    "FastMinDepth(13)"
   ]
  },
  {
   "cell_type": "code",
   "execution_count": null,
   "metadata": {
    "collapsed": false
   },
   "outputs": [],
   "source": [
    "FastMinDepth(17, start=6, end=6)"
   ]
  },
  {
   "cell_type": "code",
   "execution_count": null,
   "metadata": {
    "collapsed": false
   },
   "outputs": [],
   "source": [
    "%timeit FastNegamax(10)\n",
    "#%time FastTreeExplore(10).negamax_cached()"
   ]
  },
  {
   "cell_type": "code",
   "execution_count": null,
   "metadata": {
    "collapsed": false
   },
   "outputs": [],
   "source": [
    "t = FastTreeExplore(11)\n",
    "%time a = t.mindepth_id()\n",
    "%time b = FastMinDepth(11)\n",
    "%time c = t.mindepth()\n",
    "(a,b,c)"
   ]
  },
  {
   "cell_type": "code",
   "execution_count": null,
   "metadata": {
    "collapsed": true
   },
   "outputs": [],
   "source": [
    "t = FastTreeExplore(4)\n"
   ]
  },
  {
   "cell_type": "code",
   "execution_count": null,
   "metadata": {
    "collapsed": false
   },
   "outputs": [],
   "source": [
    "t = FastTreeExplore(14)\n",
    "%time a = t.mindepth_id2()\n",
    "a"
   ]
  },
  {
   "cell_type": "code",
   "execution_count": null,
   "metadata": {
    "collapsed": true
   },
   "outputs": [],
   "source": []
  },
  {
   "cell_type": "code",
   "execution_count": null,
   "metadata": {
    "collapsed": false
   },
   "outputs": [],
   "source": [
    "nmin = 3\n",
    "nmax = 20\n",
    "n = nmin\n",
    "v = 1\n",
    "mindepths = []\n",
    "while n <= nmax:\n",
    "    %time v = FastMinDepth(n, start = v)\n",
    "    print(n, v)\n",
    "    mindepths.append(v)\n",
    "    n += 1\n",
    "    \n",
    "mindepths = pd.DataFrame({'n':range(nmin,nmax+1), 'mindepth':mindepths})\n",
    "mindepths.index = range(nmin,nmax+1)\n",
    "mindepths"
   ]
  },
  {
   "cell_type": "code",
   "execution_count": 12,
   "metadata": {
    "collapsed": false
   },
   "outputs": [],
   "source": [
    "class TreeBuilder:\n",
    "    def __init__(self, n=4, build=False, trimming=True):\n",
    "        self.root = GameNode(board=make_board(n))\n",
    "        self.trimming = trimming\n",
    "        self.next_vertexid = 0\n",
    "        self.cache = {}\n",
    "        if build == True:\n",
    "            self.build()\n",
    "            self.calc_results()\n",
    "            \n",
    "    def find_node(self, board, player, score):\n",
    "        def _find(node):\n",
    "            if board == node.board and node.moveout_player and node.score() == score:\n",
    "                print(node.movein)\n",
    "                return node\n",
    "\n",
    "            # early exit if we are searching for something that has already been removed\n",
    "            for needle in board:\n",
    "                if needle not in node.board:\n",
    "                    return None\n",
    "                \n",
    "            # search all children\n",
    "            for child in node.children:\n",
    "                found = _find(child)\n",
    "                if found:\n",
    "                    print(node.movein)\n",
    "                    return found\n",
    "                \n",
    "            # nothing found\n",
    "            return None\n",
    "        \n",
    "        return _find(self.root)\n",
    "    \n",
    "    def num_states(self):\n",
    "        def _recurse(node):\n",
    "            n = 1 # count 1 for the note\n",
    "            for child in node.children:\n",
    "                n += _recurse(child)\n",
    "            return n\n",
    "        return _recurse(self.root)\n",
    "            \n",
    "            \n",
    "    def build(self, cache=True):\n",
    "        def _step_cached(node):\n",
    "            key = node.make_key()\n",
    "            \n",
    "            node.setmoves(self.trimming)\n",
    "            for move in node.moves:\n",
    "                child = node.make_move(move)\n",
    "                key = child.make_key()\n",
    "                if self.cache.has_key(key):\n",
    "                    # we've already been down this path on a previous branch, so we can skip it\n",
    "                    node.children.pop()\n",
    "                    node.children.append(self.cache[key])\n",
    "                else:\n",
    "                    self.cache[key] = child\n",
    "                    _step_cached(child)\n",
    "                \n",
    "        def _step_uncached(node):\n",
    "            node.setmoves(self.trimming)\n",
    "            for move in node.moves:\n",
    "                node.make_move(move)\n",
    "\n",
    "            for child in node.children:\n",
    "                _step_uncached(child)\n",
    "                                \n",
    "        if cache:\n",
    "            self.cache = {}\n",
    "            _step_cached(self.root)\n",
    "        else:\n",
    "            _step_uncached(self.root)\n",
    "        \n",
    "    def make_graph(self, startnode=None, trimdepth=-1):\n",
    "        g = igraph.Graph()\n",
    "        \n",
    "        if startnode == None:\n",
    "            startnode = self.root\n",
    "        \n",
    "        self.next_vertexid = 0\n",
    "        self.assign_vertexids(startnode)\n",
    "        g.add_vertices(self.next_vertexid)\n",
    "        \n",
    "        edgelist, attrlist = self.assign_edges(startnode, [], [])\n",
    "        g.add_edges(edgelist)\n",
    "        \n",
    "        self.setup_vertex_attributes(g, startnode)\n",
    "        self.setup_edge_attributes(g, edgelist, attrlist)\n",
    "                \n",
    "        \n",
    "        if trimdepth > 0:\n",
    "            to_delete_ids = [v.index for v in g.vs if v['depth'] >= trimdepth]\n",
    "            g.delete_vertices(to_delete_ids)\n",
    "        return g\n",
    "    \n",
    "    def setup_vertex_attributes(self, g, node):\n",
    "        v = g.vs[node.vertexid]\n",
    "        \n",
    "        v['size'] = 10\n",
    "        \n",
    "        if node.moveout_player == 1:\n",
    "            v['shape'] = 'triangle-up'\n",
    "        else:\n",
    "            v['shape'] = 'square'\n",
    "\n",
    "        board = [str(b) for b in node.board]\n",
    "        text = '{' + ','.join(board) + '}:'+str(abs(node.scoreP1()))\n",
    "        v['label'] = text\n",
    "        #v['label'] = \"\"\n",
    "        \n",
    "        v['depth'] = node.level\n",
    "\n",
    "        v['label_size'] = 9\n",
    "        v['label_dist'] = 2\n",
    "        v['label_angle'] = 3.14/2\n",
    "\n",
    "        if -node.result == 0:\n",
    "            v['color'] = '#CCCCCC'\n",
    "        elif -node.result > 0:\n",
    "            v['color'] = '#FFBF00'\n",
    "        else:\n",
    "            v['color'] = 'red'\n",
    "            \n",
    "        for child in node.children:\n",
    "            self.setup_vertex_attributes(g, child)\n",
    "    \n",
    "    def setup_edge_attributes(self, g, edgelist, attrlist):\n",
    "        i=0\n",
    "        for attrs in attrlist:\n",
    "            e = g.es[i]\n",
    "            e['color'] = attrs[0]\n",
    "            e['label'] = attrs[1]\n",
    "            e['label_size'] = 9\n",
    "            i+=1\n",
    "            \n",
    "    \n",
    "    def assign_edges(self, node, inlist=[], attrlist=[]):\n",
    "        if node.graphed:\n",
    "            return inlist, attrlist\n",
    "        \n",
    "        node.graphed = True\n",
    "        \n",
    "        for i, child in enumerate(node.children):\n",
    "            inlist.append((node.vertexid, child.vertexid))\n",
    "                    \n",
    "            if child.result == 0:\n",
    "                color = '#888888'\n",
    "            elif child.result < 0:\n",
    "                color = 'red'\n",
    "            else:\n",
    "                color = '#e5ab00'\n",
    "                \n",
    "            move = [str(m) for m in node.moves[i]]\n",
    "            label = ','.join(move)\n",
    "            #label = \"\"\n",
    "        \n",
    "            attrlist.append((color, label))\n",
    "                \n",
    "        for child in node.children:\n",
    "            self.assign_edges(child, inlist, attrlist)\n",
    "        return inlist, attrlist\n",
    "    \n",
    "    def assign_vertexids(self, node):\n",
    "        if node.vertexid == None:\n",
    "            node.vertexid = self.next_vertexid\n",
    "            self.next_vertexid += 1\n",
    "\n",
    "            for child in node.children:\n",
    "                self.assign_vertexids(child)\n",
    "        \n",
    "    def calc_results(self):\n",
    "        self.calc_results_recursive(self.root)\n",
    "    \n",
    "    def calc_results_recursive(self, node):\n",
    "        if node.result != None:\n",
    "            # we've already calculated the result for this node (since we might have cyclic trees)\n",
    "            return\n",
    "        \n",
    "        if not node.children:\n",
    "            # terminal node\n",
    "            node.result = node.win()\n",
    "        else:\n",
    "            # has children\n",
    "            for child in node.children:\n",
    "                self.calc_results_recursive(child)\n",
    "            child_results = [child.result for child in node.children]\n",
    "            node.result = -max(child_results)\n",
    "           \n",
    "    def calc_sg(self):\n",
    "        def _explore(node):\n",
    "            if node.sgvalue != None:\n",
    "                # we've already calculated the sgvalue\n",
    "                return\n",
    "            if not node.children:\n",
    "                node.sgvalue = 0\n",
    "\n",
    "    def step(self, node):\n",
    "        node.setmoves()\n",
    "        for move in node.moves:\n",
    "            node.make_move(move)\n",
    "            \n",
    "            "
   ]
  },
  {
   "cell_type": "code",
   "execution_count": 13,
   "metadata": {
    "collapsed": false
   },
   "outputs": [
    {
     "name": "stdout",
     "output_type": "stream",
     "text": [
      "CPU times: user 85 ms, sys: 13.4 ms, total: 98.4 ms\n",
      "Wall time: 89.4 ms\n",
      "CPU times: user 4.18 ms, sys: 2 µs, total: 4.18 ms\n",
      "Wall time: 4.19 ms\n"
     ]
    }
   ],
   "source": [
    "def Go(n=5, cache=True):\n",
    "    t = TreeBuilder(n,trimming=False)\n",
    "    %time t.build(cache=cache)\n",
    "    %time t.calc_results()\n",
    "    \n",
    "Go(8)\n"
   ]
  },
  {
   "cell_type": "markdown",
   "metadata": {},
   "source": [
    "## Game Tree Size\n",
    "\n",
    "According to the wikipedia page on [Game complexity](https://en.wikipedia.org/wiki/Game_complexity), \"The *game tree size* is the total number of possible games that can be played: the number of leaf nodes in the game tree rooted at the game's initial position.\""
   ]
  },
  {
   "cell_type": "code",
   "execution_count": null,
   "metadata": {
    "collapsed": false
   },
   "outputs": [],
   "source": [
    "# this will be for the full expansion, not eliminating equivalent moves\n",
    "\n",
    "n = 1\n",
    "nmax = 20\n",
    "nterminals = []\n",
    "while n <= nmax:\n",
    "    tree = FastTreeExplore(n, trimming=False)\n",
    "    v = tree.num_terminals_cached()\n",
    "    print(n, v)\n",
    "    nterminals.append(v)\n",
    "    n += 1\n",
    "    \n",
    "nterminals = pd.DataFrame({'n':range(1,nmax+1), 'treesize':nterminals})\n",
    "nterminals.index = range(1,nmax+1)\n",
    "nterminals"
   ]
  },
  {
   "cell_type": "markdown",
   "metadata": {},
   "source": [
    "## State Space Complexity\n",
    "this is the number of unique states that the game can be in.  we can ignore the moves that took us to the current state, and just look at the board selection, active player, and current score."
   ]
  },
  {
   "cell_type": "code",
   "execution_count": null,
   "metadata": {
    "collapsed": false
   },
   "outputs": [],
   "source": [
    "%prun FastTreeExplore(12).unique_states()\n"
   ]
  },
  {
   "cell_type": "code",
   "execution_count": null,
   "metadata": {
    "collapsed": false
   },
   "outputs": [],
   "source": [
    "%time FastUniqueStates(13)"
   ]
  },
  {
   "cell_type": "code",
   "execution_count": null,
   "metadata": {
    "collapsed": false
   },
   "outputs": [],
   "source": [
    "n = 1\n",
    "nmax = 20\n",
    "nterminals = []\n",
    "while n <= nmax:\n",
    "    %time v = FastUniqueStates(n)\n",
    "    print(n, v)\n",
    "    nterminals.append(v)\n",
    "    n += 1\n",
    "    \n",
    "nterminals = pd.DataFrame({'n':range(1,nmax+1), 'treesize':nterminals})\n",
    "nterminals.index = range(1,nmax+1)\n",
    "nterminals\n"
   ]
  },
  {
   "cell_type": "markdown",
   "metadata": {},
   "source": [
    "## Game Depth\n",
    "what are the minimum and maximum depths for a game with board $1...N$?"
   ]
  },
  {
   "cell_type": "code",
   "execution_count": null,
   "metadata": {
    "collapsed": false
   },
   "outputs": [],
   "source": [
    "t = FastTreeExplore(11)\n",
    "#%prun t.mindepth_bfs()\n",
    "#%time t.mindepth()\n"
   ]
  },
  {
   "cell_type": "code",
   "execution_count": null,
   "metadata": {
    "collapsed": false
   },
   "outputs": [],
   "source": [
    "nmax=10\n",
    "trees = [FastTreeExplore(n) for n in xrange(1,nmax+1)]\n",
    "s = pd.Series([tree.mindepth() for tree in trees])\n",
    "s.index = range(1,nmax+1)\n",
    "s"
   ]
  },
  {
   "cell_type": "code",
   "execution_count": null,
   "metadata": {
    "collapsed": true
   },
   "outputs": [],
   "source": [
    "def make_tree_image(filename, n, bbox, trimdepth=-1, treetype=\"tree\", cache=False, trimming=True):\n",
    "    t = TreeBuilder(n, trimming=trimming)\n",
    "    t.build(cache=cache)\n",
    "    t.calc_results()\n",
    "    #t.root.show(recursive=True)\n",
    "    g = t.make_graph(trimdepth=trimdepth)\n",
    "    if treetype == 'tree' or treetype=='rt_circular':\n",
    "        layout = g.layout(treetype,root=[0])\n",
    "    else:\n",
    "        layout = g.layout(treetype)\n",
    "    igraph.plot(g, filename, bbox=bbox, layout=layout)"
   ]
  },
  {
   "cell_type": "code",
   "execution_count": null,
   "metadata": {
    "collapsed": true
   },
   "outputs": [],
   "source": [
    "def make_subtree_image(filename, n, bbox, board, player, scorediff, trimdepth=-1, treetype=\"tree\", cache=False):\n",
    "    t = TreeBuilder(n)\n",
    "    t.build(cache=cache)\n",
    "    t.calc_results()\n",
    "    #t.root.show(recursive=True)\n",
    "    node = t.find_node(board, player, scorediff)\n",
    "    g = t.make_graph(startnode= node, trimdepth=trimdepth)\n",
    "    if treetype == 'tree' or treetype=='rt_circular':\n",
    "        layout = g.layout(treetype,root=[0])\n",
    "    else:\n",
    "        layout = g.layout(treetype)\n",
    "    igraph.plot(g, filename, bbox=bbox, layout=layout)"
   ]
  },
  {
   "cell_type": "code",
   "execution_count": null,
   "metadata": {
    "collapsed": false
   },
   "outputs": [],
   "source": [
    "make_subtree_image(\"subtree-comeback.pdf\", 7, (0,0,375,140), set([3,4,7]), 1, 2)"
   ]
  },
  {
   "cell_type": "code",
   "execution_count": null,
   "metadata": {
    "collapsed": false
   },
   "outputs": [],
   "source": [
    "make_subtree_image(\"subtree-dangerous.pdf\", 7, (0,0,600,250), set([1,2,4,7]), 2, 4)"
   ]
  },
  {
   "cell_type": "code",
   "execution_count": null,
   "metadata": {
    "collapsed": false
   },
   "outputs": [],
   "source": [
    "make_subtree_image(\"subtree-dangerous2.pdf\", 7, (0,0,600,275), set([1,3,4,6]), 2, 4)"
   ]
  },
  {
   "cell_type": "code",
   "execution_count": null,
   "metadata": {
    "collapsed": false
   },
   "outputs": [],
   "source": [
    "make_tree_image(\"cycle-tree-4.pdf\", 4, (0,0,1000,1000), treetype = \"auto\", cache=True)"
   ]
  },
  {
   "cell_type": "code",
   "execution_count": null,
   "metadata": {
    "collapsed": false
   },
   "outputs": [],
   "source": [
    "make_tree_image(\"full-tree-4a.pdf\", 4, (0,0,1000,300))\n",
    "make_tree_image(\"full-tree-5a.pdf\", 5, (0,0,2500,600))\n",
    "make_tree_image(\"full-tree-6a.pdf\", 6, (0,0,20000,600))\n",
    "make_tree_image(\"full-tree-7a.pdf\", 7, (0,0,64000,600))"
   ]
  },
  {
   "cell_type": "code",
   "execution_count": null,
   "metadata": {
    "collapsed": false
   },
   "outputs": [],
   "source": [
    "make_tree_image(\"paper/full-tree-4a.pdf\", 4, (0,0,1000,250), trimming=False)"
   ]
  },
  {
   "cell_type": "code",
   "execution_count": null,
   "metadata": {
    "collapsed": false
   },
   "outputs": [],
   "source": [
    "make_tree_image(\"tree-7-trunc3.pdf\", 7, (0,0,8000,8000), 8, \"rt_circular\")"
   ]
  },
  {
   "cell_type": "code",
   "execution_count": null,
   "metadata": {
    "collapsed": false
   },
   "outputs": [],
   "source": [
    "nmax=9\n",
    "trees = [TreeBuilder(n, build=True) for n in xrange(1,nmax+1)]\n",
    "nstates = pd.Series([tree.num_states() for tree in trees])\n",
    "nstates.index = range(1,nmax+1)\n",
    "nstates\n"
   ]
  },
  {
   "cell_type": "code",
   "execution_count": null,
   "metadata": {
    "collapsed": false
   },
   "outputs": [],
   "source": [
    "test = pd.DataFrame({'nstates':nstates})\n",
    "test['nlogn'] = [n*np.log(n) for n in test.index]\n",
    "test['lognstates'] = np.log(test['nstates'])\n",
    "test.plot(x='nlogn', y='lognstates')\n",
    "#test\n"
   ]
  },
  {
   "cell_type": "markdown",
   "metadata": {
    "collapsed": true
   },
   "source": [
    "## Optimal Play\n",
    "\n",
    "For N, solve the optimal play using a cached negamax."
   ]
  },
  {
   "cell_type": "code",
   "execution_count": 18,
   "metadata": {
    "collapsed": false
   },
   "outputs": [
    {
     "name": "stdout",
     "output_type": "stream",
     "text": [
      "CPU times: user 140 ms, sys: 6.56 ms, total: 147 ms\n",
      "Wall time: 142 ms\n"
     ]
    },
    {
     "data": {
      "text/plain": [
       "-1"
      ]
     },
     "execution_count": 18,
     "metadata": {},
     "output_type": "execute_result"
    }
   ],
   "source": [
    "def SolveGame(n=8):\n",
    "    t = TreeBuilder(n)\n",
    "    t.build()\n",
    "    t.calc_results()\n",
    "    return -t.root.result\n",
    "\n",
    "#%time print(FastNegamax(9))\n",
    "%time FastTreeExplore(9).negamax_cached()"
   ]
  },
  {
   "cell_type": "code",
   "execution_count": 22,
   "metadata": {
    "collapsed": false
   },
   "outputs": [
    {
     "name": "stdout",
     "output_type": "stream",
     "text": [
      "-1\n",
      "-1\n",
      "-1\n",
      "-1\n",
      "-1\n",
      "-1\n",
      "-1\n",
      "-1\n",
      "-1\n"
     ]
    }
   ],
   "source": [
    "t = TreeBuilder(9)\n",
    "t.build()\n",
    "t.calc_results()\n",
    "for child in t.root.children:\n",
    "    print(child.result)"
   ]
  },
  {
   "cell_type": "code",
   "execution_count": null,
   "metadata": {
    "collapsed": false
   },
   "outputs": [],
   "source": [
    "ranges = range(3,20)\n",
    "df = pd.DataFrame(columns=['n','winP1'])\n",
    "df['n'] = ranges\n",
    "df['winP1'] = pd.Series([FastNegamax(n) for n in ranges])\n",
    "df"
   ]
  },
  {
   "cell_type": "code",
   "execution_count": null,
   "metadata": {
    "collapsed": false
   },
   "outputs": [],
   "source": [
    "g = GameNode(board=make_board(17))\n",
    "g.push_move([17])\n",
    "\n",
    "moves = g.possible_moves()\n",
    "assert [7,9,16] in moves\n",
    "g.push_move([7,9,16])\n",
    "\n",
    "moves = g.possible_moves()\n",
    "assert [6,8,15] in moves\n",
    "g.push_move([6,8,15])\n",
    "\n",
    "moves = g.possible_moves()\n",
    "assert [3,10,14] in moves\n",
    "g.push_move([3,10,14])\n",
    "\n",
    "moves = g.possible_moves()\n",
    "assert [1,11,13] in moves\n",
    "g.push_move([1,11,13])\n",
    "\n",
    "g.board"
   ]
  },
  {
   "cell_type": "code",
   "execution_count": null,
   "metadata": {
    "collapsed": true
   },
   "outputs": [],
   "source": [
    "\n",
    "\n"
   ]
  }
 ],
 "metadata": {
  "kernelspec": {
   "display_name": "Python 2",
   "language": "python",
   "name": "python2"
  },
  "language_info": {
   "codemirror_mode": {
    "name": "ipython",
    "version": 2
   },
   "file_extension": ".py",
   "mimetype": "text/x-python",
   "name": "python",
   "nbconvert_exporter": "python",
   "pygments_lexer": "ipython2",
   "version": "2.7.11"
  }
 },
 "nbformat": 4,
 "nbformat_minor": 0
}
